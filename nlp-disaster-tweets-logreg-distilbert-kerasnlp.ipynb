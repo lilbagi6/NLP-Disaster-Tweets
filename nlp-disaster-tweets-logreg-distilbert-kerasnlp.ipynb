{
 "cells": [
  {
   "cell_type": "markdown",
   "id": "428579ab",
   "metadata": {
    "papermill": {
     "duration": 0.007325,
     "end_time": "2025-04-28T08:49:02.006847",
     "exception": false,
     "start_time": "2025-04-28T08:49:01.999522",
     "status": "completed"
    },
    "tags": []
   },
   "source": [
    "# NLP Disaster Tweets | Logistic Regression + DistilBERT (KerasNLP)\n",
    "\n",
    "In this notebook, we aim to solve the **Disaster Tweets Classification** task by comparing two models:\n",
    "- **Logistic Regression** (baseline model)\n",
    "- **DistilBERT** (pretrained model from KerasNLP)\n",
    "\n",
    "We will load the dataset, preprocess the text, train both models, evaluate their performances, and generate a submission file based on the best model.\n"
   ]
  },
  {
   "cell_type": "code",
   "execution_count": 1,
   "id": "52aeaaca",
   "metadata": {
    "_cell_guid": "b1076dfc-b9ad-4769-8c92-a6c4dae69d19",
    "_uuid": "8f2839f25d086af736a60e9eeb907d3b93b6e0e5",
    "collapsed": true,
    "execution": {
     "iopub.execute_input": "2025-04-28T08:49:02.020328Z",
     "iopub.status.busy": "2025-04-28T08:49:02.020126Z",
     "iopub.status.idle": "2025-04-28T08:49:11.108292Z",
     "shell.execute_reply": "2025-04-28T08:49:11.107333Z"
    },
    "jupyter": {
     "outputs_hidden": true
    },
    "papermill": {
     "duration": 9.09619,
     "end_time": "2025-04-28T08:49:11.109552",
     "exception": false,
     "start_time": "2025-04-28T08:49:02.013362",
     "status": "completed"
    },
    "tags": []
   },
   "outputs": [
    {
     "name": "stdout",
     "output_type": "stream",
     "text": [
      "Requirement already satisfied: keras-nlp in /usr/local/lib/python3.11/dist-packages (0.18.1)\r\n",
      "Collecting keras-nlp\r\n",
      "  Downloading keras_nlp-0.20.0-py3-none-any.whl.metadata (1.4 kB)\r\n",
      "Collecting keras-hub==0.20.0 (from keras-nlp)\r\n",
      "  Downloading keras_hub-0.20.0-py3-none-any.whl.metadata (7.7 kB)\r\n",
      "Requirement already satisfied: keras>=3.5 in /usr/local/lib/python3.11/dist-packages (from keras-hub==0.20.0->keras-nlp) (3.5.0)\r\n",
      "Requirement already satisfied: absl-py in /usr/local/lib/python3.11/dist-packages (from keras-hub==0.20.0->keras-nlp) (1.4.0)\r\n",
      "Requirement already satisfied: numpy in /usr/local/lib/python3.11/dist-packages (from keras-hub==0.20.0->keras-nlp) (1.26.4)\r\n",
      "Requirement already satisfied: packaging in /usr/local/lib/python3.11/dist-packages (from keras-hub==0.20.0->keras-nlp) (24.2)\r\n",
      "Requirement already satisfied: regex in /usr/local/lib/python3.11/dist-packages (from keras-hub==0.20.0->keras-nlp) (2024.11.6)\r\n",
      "Requirement already satisfied: rich in /usr/local/lib/python3.11/dist-packages (from keras-hub==0.20.0->keras-nlp) (14.0.0)\r\n",
      "Requirement already satisfied: kagglehub in /usr/local/lib/python3.11/dist-packages (from keras-hub==0.20.0->keras-nlp) (0.3.11)\r\n",
      "Requirement already satisfied: tensorflow-text in /usr/local/lib/python3.11/dist-packages (from keras-hub==0.20.0->keras-nlp) (2.18.1)\r\n",
      "Requirement already satisfied: namex in /usr/local/lib/python3.11/dist-packages (from keras>=3.5->keras-hub==0.20.0->keras-nlp) (0.0.8)\r\n",
      "Requirement already satisfied: h5py in /usr/local/lib/python3.11/dist-packages (from keras>=3.5->keras-hub==0.20.0->keras-nlp) (3.12.1)\r\n",
      "Requirement already satisfied: optree in /usr/local/lib/python3.11/dist-packages (from keras>=3.5->keras-hub==0.20.0->keras-nlp) (0.14.0)\r\n",
      "Requirement already satisfied: ml-dtypes in /usr/local/lib/python3.11/dist-packages (from keras>=3.5->keras-hub==0.20.0->keras-nlp) (0.4.1)\r\n",
      "Requirement already satisfied: pyyaml in /usr/local/lib/python3.11/dist-packages (from kagglehub->keras-hub==0.20.0->keras-nlp) (6.0.2)\r\n",
      "Requirement already satisfied: requests in /usr/local/lib/python3.11/dist-packages (from kagglehub->keras-hub==0.20.0->keras-nlp) (2.32.3)\r\n",
      "Requirement already satisfied: tqdm in /usr/local/lib/python3.11/dist-packages (from kagglehub->keras-hub==0.20.0->keras-nlp) (4.67.1)\r\n",
      "Requirement already satisfied: mkl_fft in /usr/local/lib/python3.11/dist-packages (from numpy->keras-hub==0.20.0->keras-nlp) (1.3.8)\r\n",
      "Requirement already satisfied: mkl_random in /usr/local/lib/python3.11/dist-packages (from numpy->keras-hub==0.20.0->keras-nlp) (1.2.4)\r\n",
      "Requirement already satisfied: mkl_umath in /usr/local/lib/python3.11/dist-packages (from numpy->keras-hub==0.20.0->keras-nlp) (0.1.1)\r\n",
      "Requirement already satisfied: mkl in /usr/local/lib/python3.11/dist-packages (from numpy->keras-hub==0.20.0->keras-nlp) (2025.1.0)\r\n",
      "Requirement already satisfied: tbb4py in /usr/local/lib/python3.11/dist-packages (from numpy->keras-hub==0.20.0->keras-nlp) (2022.1.0)\r\n",
      "Requirement already satisfied: mkl-service in /usr/local/lib/python3.11/dist-packages (from numpy->keras-hub==0.20.0->keras-nlp) (2.4.1)\r\n",
      "Requirement already satisfied: markdown-it-py>=2.2.0 in /usr/local/lib/python3.11/dist-packages (from rich->keras-hub==0.20.0->keras-nlp) (3.0.0)\r\n",
      "Requirement already satisfied: pygments<3.0.0,>=2.13.0 in /usr/local/lib/python3.11/dist-packages (from rich->keras-hub==0.20.0->keras-nlp) (2.19.1)\r\n",
      "Requirement already satisfied: tensorflow<2.19,>=2.18.0 in /usr/local/lib/python3.11/dist-packages (from tensorflow-text->keras-hub==0.20.0->keras-nlp) (2.18.0)\r\n",
      "Requirement already satisfied: mdurl~=0.1 in /usr/local/lib/python3.11/dist-packages (from markdown-it-py>=2.2.0->rich->keras-hub==0.20.0->keras-nlp) (0.1.2)\r\n",
      "Requirement already satisfied: astunparse>=1.6.0 in /usr/local/lib/python3.11/dist-packages (from tensorflow<2.19,>=2.18.0->tensorflow-text->keras-hub==0.20.0->keras-nlp) (1.6.3)\r\n",
      "Requirement already satisfied: flatbuffers>=24.3.25 in /usr/local/lib/python3.11/dist-packages (from tensorflow<2.19,>=2.18.0->tensorflow-text->keras-hub==0.20.0->keras-nlp) (25.2.10)\r\n",
      "Requirement already satisfied: gast!=0.5.0,!=0.5.1,!=0.5.2,>=0.2.1 in /usr/local/lib/python3.11/dist-packages (from tensorflow<2.19,>=2.18.0->tensorflow-text->keras-hub==0.20.0->keras-nlp) (0.6.0)\r\n",
      "Requirement already satisfied: google-pasta>=0.1.1 in /usr/local/lib/python3.11/dist-packages (from tensorflow<2.19,>=2.18.0->tensorflow-text->keras-hub==0.20.0->keras-nlp) (0.2.0)\r\n",
      "Requirement already satisfied: libclang>=13.0.0 in /usr/local/lib/python3.11/dist-packages (from tensorflow<2.19,>=2.18.0->tensorflow-text->keras-hub==0.20.0->keras-nlp) (18.1.1)\r\n",
      "Requirement already satisfied: opt-einsum>=2.3.2 in /usr/local/lib/python3.11/dist-packages (from tensorflow<2.19,>=2.18.0->tensorflow-text->keras-hub==0.20.0->keras-nlp) (3.4.0)\r\n",
      "Requirement already satisfied: protobuf!=4.21.0,!=4.21.1,!=4.21.2,!=4.21.3,!=4.21.4,!=4.21.5,<6.0.0dev,>=3.20.3 in /usr/local/lib/python3.11/dist-packages (from tensorflow<2.19,>=2.18.0->tensorflow-text->keras-hub==0.20.0->keras-nlp) (3.20.3)\r\n",
      "Requirement already satisfied: setuptools in /usr/local/lib/python3.11/dist-packages (from tensorflow<2.19,>=2.18.0->tensorflow-text->keras-hub==0.20.0->keras-nlp) (75.1.0)\r\n",
      "Requirement already satisfied: six>=1.12.0 in /usr/local/lib/python3.11/dist-packages (from tensorflow<2.19,>=2.18.0->tensorflow-text->keras-hub==0.20.0->keras-nlp) (1.17.0)\r\n",
      "Requirement already satisfied: termcolor>=1.1.0 in /usr/local/lib/python3.11/dist-packages (from tensorflow<2.19,>=2.18.0->tensorflow-text->keras-hub==0.20.0->keras-nlp) (2.5.0)\r\n",
      "Requirement already satisfied: typing-extensions>=3.6.6 in /usr/local/lib/python3.11/dist-packages (from tensorflow<2.19,>=2.18.0->tensorflow-text->keras-hub==0.20.0->keras-nlp) (4.13.1)\r\n",
      "Requirement already satisfied: wrapt>=1.11.0 in /usr/local/lib/python3.11/dist-packages (from tensorflow<2.19,>=2.18.0->tensorflow-text->keras-hub==0.20.0->keras-nlp) (1.17.2)\r\n",
      "Requirement already satisfied: grpcio<2.0,>=1.24.3 in /usr/local/lib/python3.11/dist-packages (from tensorflow<2.19,>=2.18.0->tensorflow-text->keras-hub==0.20.0->keras-nlp) (1.70.0)\r\n",
      "Requirement already satisfied: tensorboard<2.19,>=2.18 in /usr/local/lib/python3.11/dist-packages (from tensorflow<2.19,>=2.18.0->tensorflow-text->keras-hub==0.20.0->keras-nlp) (2.18.0)\r\n",
      "Requirement already satisfied: tensorflow-io-gcs-filesystem>=0.23.1 in /usr/local/lib/python3.11/dist-packages (from tensorflow<2.19,>=2.18.0->tensorflow-text->keras-hub==0.20.0->keras-nlp) (0.37.1)\r\n",
      "Requirement already satisfied: charset-normalizer<4,>=2 in /usr/local/lib/python3.11/dist-packages (from requests->kagglehub->keras-hub==0.20.0->keras-nlp) (3.4.1)\r\n",
      "Requirement already satisfied: idna<4,>=2.5 in /usr/local/lib/python3.11/dist-packages (from requests->kagglehub->keras-hub==0.20.0->keras-nlp) (3.10)\r\n",
      "Requirement already satisfied: urllib3<3,>=1.21.1 in /usr/local/lib/python3.11/dist-packages (from requests->kagglehub->keras-hub==0.20.0->keras-nlp) (2.3.0)\r\n",
      "Requirement already satisfied: certifi>=2017.4.17 in /usr/local/lib/python3.11/dist-packages (from requests->kagglehub->keras-hub==0.20.0->keras-nlp) (2025.1.31)\r\n",
      "Requirement already satisfied: intel-openmp<2026,>=2024 in /usr/local/lib/python3.11/dist-packages (from mkl->numpy->keras-hub==0.20.0->keras-nlp) (2024.2.0)\r\n",
      "Requirement already satisfied: tbb==2022.* in /usr/local/lib/python3.11/dist-packages (from mkl->numpy->keras-hub==0.20.0->keras-nlp) (2022.1.0)\r\n",
      "Requirement already satisfied: tcmlib==1.* in /usr/local/lib/python3.11/dist-packages (from tbb==2022.*->mkl->numpy->keras-hub==0.20.0->keras-nlp) (1.2.0)\r\n",
      "Requirement already satisfied: intel-cmplr-lib-rt in /usr/local/lib/python3.11/dist-packages (from mkl_umath->numpy->keras-hub==0.20.0->keras-nlp) (2024.2.0)\r\n",
      "Requirement already satisfied: wheel<1.0,>=0.23.0 in /usr/local/lib/python3.11/dist-packages (from astunparse>=1.6.0->tensorflow<2.19,>=2.18.0->tensorflow-text->keras-hub==0.20.0->keras-nlp) (0.45.1)\r\n",
      "Requirement already satisfied: intel-cmplr-lib-ur==2024.2.0 in /usr/local/lib/python3.11/dist-packages (from intel-openmp<2026,>=2024->mkl->numpy->keras-hub==0.20.0->keras-nlp) (2024.2.0)\r\n",
      "Requirement already satisfied: markdown>=2.6.8 in /usr/local/lib/python3.11/dist-packages (from tensorboard<2.19,>=2.18->tensorflow<2.19,>=2.18.0->tensorflow-text->keras-hub==0.20.0->keras-nlp) (3.7)\r\n",
      "Requirement already satisfied: tensorboard-data-server<0.8.0,>=0.7.0 in /usr/local/lib/python3.11/dist-packages (from tensorboard<2.19,>=2.18->tensorflow<2.19,>=2.18.0->tensorflow-text->keras-hub==0.20.0->keras-nlp) (0.7.2)\r\n",
      "Requirement already satisfied: werkzeug>=1.0.1 in /usr/local/lib/python3.11/dist-packages (from tensorboard<2.19,>=2.18->tensorflow<2.19,>=2.18.0->tensorflow-text->keras-hub==0.20.0->keras-nlp) (3.1.3)\r\n",
      "Requirement already satisfied: MarkupSafe>=2.1.1 in /usr/local/lib/python3.11/dist-packages (from werkzeug>=1.0.1->tensorboard<2.19,>=2.18->tensorflow<2.19,>=2.18.0->tensorflow-text->keras-hub==0.20.0->keras-nlp) (3.0.2)\r\n",
      "Downloading keras_nlp-0.20.0-py3-none-any.whl (2.1 kB)\r\n",
      "Downloading keras_hub-0.20.0-py3-none-any.whl (792 kB)\r\n",
      "\u001b[2K   \u001b[90m━━━━━━━━━━━━━━━━━━━━━━━━━━━━━━━━━━━━━━━━\u001b[0m \u001b[32m792.1/792.1 kB\u001b[0m \u001b[31m23.8 MB/s\u001b[0m eta \u001b[36m0:00:00\u001b[0m\r\n",
      "\u001b[?25hInstalling collected packages: keras-hub, keras-nlp\r\n",
      "  Attempting uninstall: keras-hub\r\n",
      "    Found existing installation: keras-hub 0.18.1\r\n",
      "    Uninstalling keras-hub-0.18.1:\r\n",
      "      Successfully uninstalled keras-hub-0.18.1\r\n",
      "  Attempting uninstall: keras-nlp\r\n",
      "    Found existing installation: keras-nlp 0.18.1\r\n",
      "    Uninstalling keras-nlp-0.18.1:\r\n",
      "      Successfully uninstalled keras-nlp-0.18.1\r\n",
      "Successfully installed keras-hub-0.20.0 keras-nlp-0.20.0\r\n",
      "Requirement already satisfied: keras-core in /usr/local/lib/python3.11/dist-packages (0.1.7)\r\n",
      "Requirement already satisfied: absl-py in /usr/local/lib/python3.11/dist-packages (from keras-core) (1.4.0)\r\n",
      "Requirement already satisfied: numpy in /usr/local/lib/python3.11/dist-packages (from keras-core) (1.26.4)\r\n",
      "Requirement already satisfied: rich in /usr/local/lib/python3.11/dist-packages (from keras-core) (14.0.0)\r\n",
      "Requirement already satisfied: namex in /usr/local/lib/python3.11/dist-packages (from keras-core) (0.0.8)\r\n",
      "Requirement already satisfied: h5py in /usr/local/lib/python3.11/dist-packages (from keras-core) (3.12.1)\r\n",
      "Requirement already satisfied: dm-tree in /usr/local/lib/python3.11/dist-packages (from keras-core) (0.1.9)\r\n",
      "Requirement already satisfied: attrs>=18.2.0 in /usr/local/lib/python3.11/dist-packages (from dm-tree->keras-core) (25.3.0)\r\n",
      "Requirement already satisfied: wrapt>=1.11.2 in /usr/local/lib/python3.11/dist-packages (from dm-tree->keras-core) (1.17.2)\r\n",
      "Requirement already satisfied: mkl_fft in /usr/local/lib/python3.11/dist-packages (from numpy->keras-core) (1.3.8)\r\n",
      "Requirement already satisfied: mkl_random in /usr/local/lib/python3.11/dist-packages (from numpy->keras-core) (1.2.4)\r\n",
      "Requirement already satisfied: mkl_umath in /usr/local/lib/python3.11/dist-packages (from numpy->keras-core) (0.1.1)\r\n",
      "Requirement already satisfied: mkl in /usr/local/lib/python3.11/dist-packages (from numpy->keras-core) (2025.1.0)\r\n",
      "Requirement already satisfied: tbb4py in /usr/local/lib/python3.11/dist-packages (from numpy->keras-core) (2022.1.0)\r\n",
      "Requirement already satisfied: mkl-service in /usr/local/lib/python3.11/dist-packages (from numpy->keras-core) (2.4.1)\r\n",
      "Requirement already satisfied: markdown-it-py>=2.2.0 in /usr/local/lib/python3.11/dist-packages (from rich->keras-core) (3.0.0)\r\n",
      "Requirement already satisfied: pygments<3.0.0,>=2.13.0 in /usr/local/lib/python3.11/dist-packages (from rich->keras-core) (2.19.1)\r\n",
      "Requirement already satisfied: mdurl~=0.1 in /usr/local/lib/python3.11/dist-packages (from markdown-it-py>=2.2.0->rich->keras-core) (0.1.2)\r\n",
      "Requirement already satisfied: intel-openmp<2026,>=2024 in /usr/local/lib/python3.11/dist-packages (from mkl->numpy->keras-core) (2024.2.0)\r\n",
      "Requirement already satisfied: tbb==2022.* in /usr/local/lib/python3.11/dist-packages (from mkl->numpy->keras-core) (2022.1.0)\r\n",
      "Requirement already satisfied: tcmlib==1.* in /usr/local/lib/python3.11/dist-packages (from tbb==2022.*->mkl->numpy->keras-core) (1.2.0)\r\n",
      "Requirement already satisfied: intel-cmplr-lib-rt in /usr/local/lib/python3.11/dist-packages (from mkl_umath->numpy->keras-core) (2024.2.0)\r\n",
      "Requirement already satisfied: intel-cmplr-lib-ur==2024.2.0 in /usr/local/lib/python3.11/dist-packages (from intel-openmp<2026,>=2024->mkl->numpy->keras-core) (2024.2.0)\r\n",
      "/kaggle/input/nlp-getting-started/sample_submission.csv\n",
      "/kaggle/input/nlp-getting-started/train.csv\n",
      "/kaggle/input/nlp-getting-started/test.csv\n",
      "/kaggle/input/distil_bert/keras/distil_bert_base_en_uncased/3/config.json\n",
      "/kaggle/input/distil_bert/keras/distil_bert_base_en_uncased/3/tokenizer.json\n",
      "/kaggle/input/distil_bert/keras/distil_bert_base_en_uncased/3/metadata.json\n",
      "/kaggle/input/distil_bert/keras/distil_bert_base_en_uncased/3/model.weights.h5\n",
      "/kaggle/input/distil_bert/keras/distil_bert_base_en_uncased/3/assets/tokenizer/vocabulary.txt\n"
     ]
    }
   ],
   "source": [
    "!pip install keras-nlp --upgrade\n",
    "!pip install keras-core --upgrade\n",
    "\n",
    "# List all files in the Kaggle input directory to verify available datasets\n",
    "import os\n",
    "for dirname, _, filenames in os.walk('/kaggle/input'):\n",
    "    for filename in filenames:\n",
    "        print(os.path.join(dirname, filename))\n",
    "\n",
    "# You can write up to 20GB to the current directory (/kaggle/working/) that gets preserved as output when you create a version using \"Save & Run All\" \n",
    "# You can also write temporary files to /kaggle/temp/, but they won't be saved outside of the current session"
   ]
  },
  {
   "cell_type": "code",
   "execution_count": 2,
   "id": "3bc91e2d",
   "metadata": {
    "execution": {
     "iopub.execute_input": "2025-04-28T08:49:11.126185Z",
     "iopub.status.busy": "2025-04-28T08:49:11.125930Z",
     "iopub.status.idle": "2025-04-28T08:49:14.595342Z",
     "shell.execute_reply": "2025-04-28T08:49:14.594761Z"
    },
    "papermill": {
     "duration": 3.479157,
     "end_time": "2025-04-28T08:49:14.596732",
     "exception": false,
     "start_time": "2025-04-28T08:49:11.117575",
     "status": "completed"
    },
    "tags": []
   },
   "outputs": [],
   "source": [
    "# Importing Required Libraries\n",
    "import pandas as pd \n",
    "import numpy as np\n",
    "import matplotlib.pyplot as plt\n",
    "import seaborn as sns\n",
    "from sklearn.feature_extraction.text import TfidfVectorizer\n",
    "from sklearn.model_selection import train_test_split\n",
    "from sklearn.linear_model import LogisticRegression\n",
    "from sklearn.metrics import classification_report, confusion_matrix\n",
    "sns.set()"
   ]
  },
  {
   "cell_type": "markdown",
   "id": "9c87d2cc",
   "metadata": {
    "papermill": {
     "duration": 0.00761,
     "end_time": "2025-04-28T08:49:14.612485",
     "exception": false,
     "start_time": "2025-04-28T08:49:14.604875",
     "status": "completed"
    },
    "tags": []
   },
   "source": [
    "# Load the Data and Visualisation \n",
    "First, let's load and explore the dataset!"
   ]
  },
  {
   "cell_type": "code",
   "execution_count": 3,
   "id": "26dd69d3",
   "metadata": {
    "execution": {
     "iopub.execute_input": "2025-04-28T08:49:14.628493Z",
     "iopub.status.busy": "2025-04-28T08:49:14.627823Z",
     "iopub.status.idle": "2025-04-28T08:49:14.691222Z",
     "shell.execute_reply": "2025-04-28T08:49:14.690586Z"
    },
    "papermill": {
     "duration": 0.072561,
     "end_time": "2025-04-28T08:49:14.692319",
     "exception": false,
     "start_time": "2025-04-28T08:49:14.619758",
     "status": "completed"
    },
    "tags": []
   },
   "outputs": [
    {
     "name": "stdout",
     "output_type": "stream",
     "text": [
      "(7613, 5)\n",
      "(3263, 4)\n"
     ]
    }
   ],
   "source": [
    "train_df = pd.read_csv(\"/kaggle/input/nlp-getting-started/train.csv\")\n",
    "test_df = pd.read_csv(\"/kaggle/input/nlp-getting-started/test.csv\")\n",
    "\n",
    "print(train_df.shape)\n",
    "print(test_df.shape)"
   ]
  },
  {
   "cell_type": "code",
   "execution_count": 4,
   "id": "8f3e4901",
   "metadata": {
    "execution": {
     "iopub.execute_input": "2025-04-28T08:49:14.707594Z",
     "iopub.status.busy": "2025-04-28T08:49:14.707386Z",
     "iopub.status.idle": "2025-04-28T08:49:14.726505Z",
     "shell.execute_reply": "2025-04-28T08:49:14.725835Z"
    },
    "papermill": {
     "duration": 0.027908,
     "end_time": "2025-04-28T08:49:14.727510",
     "exception": false,
     "start_time": "2025-04-28T08:49:14.699602",
     "status": "completed"
    },
    "tags": []
   },
   "outputs": [
    {
     "data": {
      "text/html": [
       "<div>\n",
       "<style scoped>\n",
       "    .dataframe tbody tr th:only-of-type {\n",
       "        vertical-align: middle;\n",
       "    }\n",
       "\n",
       "    .dataframe tbody tr th {\n",
       "        vertical-align: top;\n",
       "    }\n",
       "\n",
       "    .dataframe thead th {\n",
       "        text-align: right;\n",
       "    }\n",
       "</style>\n",
       "<table border=\"1\" class=\"dataframe\">\n",
       "  <thead>\n",
       "    <tr style=\"text-align: right;\">\n",
       "      <th></th>\n",
       "      <th>id</th>\n",
       "      <th>keyword</th>\n",
       "      <th>location</th>\n",
       "      <th>text</th>\n",
       "      <th>target</th>\n",
       "    </tr>\n",
       "  </thead>\n",
       "  <tbody>\n",
       "    <tr>\n",
       "      <th>0</th>\n",
       "      <td>1</td>\n",
       "      <td>NaN</td>\n",
       "      <td>NaN</td>\n",
       "      <td>Our Deeds are the Reason of this #earthquake M...</td>\n",
       "      <td>1</td>\n",
       "    </tr>\n",
       "    <tr>\n",
       "      <th>1</th>\n",
       "      <td>4</td>\n",
       "      <td>NaN</td>\n",
       "      <td>NaN</td>\n",
       "      <td>Forest fire near La Ronge Sask. Canada</td>\n",
       "      <td>1</td>\n",
       "    </tr>\n",
       "    <tr>\n",
       "      <th>2</th>\n",
       "      <td>5</td>\n",
       "      <td>NaN</td>\n",
       "      <td>NaN</td>\n",
       "      <td>All residents asked to 'shelter in place' are ...</td>\n",
       "      <td>1</td>\n",
       "    </tr>\n",
       "    <tr>\n",
       "      <th>3</th>\n",
       "      <td>6</td>\n",
       "      <td>NaN</td>\n",
       "      <td>NaN</td>\n",
       "      <td>13,000 people receive #wildfires evacuation or...</td>\n",
       "      <td>1</td>\n",
       "    </tr>\n",
       "    <tr>\n",
       "      <th>4</th>\n",
       "      <td>7</td>\n",
       "      <td>NaN</td>\n",
       "      <td>NaN</td>\n",
       "      <td>Just got sent this photo from Ruby #Alaska as ...</td>\n",
       "      <td>1</td>\n",
       "    </tr>\n",
       "  </tbody>\n",
       "</table>\n",
       "</div>"
      ],
      "text/plain": [
       "   id keyword location                                               text  \\\n",
       "0   1     NaN      NaN  Our Deeds are the Reason of this #earthquake M...   \n",
       "1   4     NaN      NaN             Forest fire near La Ronge Sask. Canada   \n",
       "2   5     NaN      NaN  All residents asked to 'shelter in place' are ...   \n",
       "3   6     NaN      NaN  13,000 people receive #wildfires evacuation or...   \n",
       "4   7     NaN      NaN  Just got sent this photo from Ruby #Alaska as ...   \n",
       "\n",
       "   target  \n",
       "0       1  \n",
       "1       1  \n",
       "2       1  \n",
       "3       1  \n",
       "4       1  "
      ]
     },
     "execution_count": 4,
     "metadata": {},
     "output_type": "execute_result"
    }
   ],
   "source": [
    "train_df.head()"
   ]
  },
  {
   "cell_type": "markdown",
   "id": "bca92083",
   "metadata": {
    "papermill": {
     "duration": 0.007296,
     "end_time": "2025-04-28T08:49:14.742170",
     "exception": false,
     "start_time": "2025-04-28T08:49:14.734874",
     "status": "completed"
    },
    "tags": []
   },
   "source": [
    "## Target Distribution\n",
    "\n",
    "Before training, it's important to understand the distribution of the target classes.  \n",
    "Let's visualize how many disaster vs non-disaster tweets we have in the training dataset.\n"
   ]
  },
  {
   "cell_type": "code",
   "execution_count": 5,
   "id": "4d132a20",
   "metadata": {
    "execution": {
     "iopub.execute_input": "2025-04-28T08:49:14.757805Z",
     "iopub.status.busy": "2025-04-28T08:49:14.757215Z",
     "iopub.status.idle": "2025-04-28T08:49:15.003789Z",
     "shell.execute_reply": "2025-04-28T08:49:15.003027Z"
    },
    "papermill": {
     "duration": 0.255345,
     "end_time": "2025-04-28T08:49:15.004763",
     "exception": false,
     "start_time": "2025-04-28T08:49:14.749418",
     "status": "completed"
    },
    "tags": []
   },
   "outputs": [
    {
     "data": {
      "image/png": "[encoded data removed]",
      "text/plain": [
       "<Figure size 600x400 with 1 Axes>"
      ]
     },
     "metadata": {},
     "output_type": "display_data"
    },
    {
     "data": {
      "text/plain": [
       "target\n",
       "0    4342\n",
       "1    3271\n",
       "Name: count, dtype: int64"
      ]
     },
     "execution_count": 5,
     "metadata": {},
     "output_type": "execute_result"
    }
   ],
   "source": [
    "plt.figure(figsize=(6, 4))\n",
    "sns.countplot(data=train_df, x=\"target\", palette=\"pastel\")\n",
    "plt.title(\"Target distribution\", fontsize=14)\n",
    "plt.xlabel(\"Target\", fontsize=12)\n",
    "plt.ylabel(\"Count\", fontsize=12)\n",
    "plt.xticks([0, 1], ['Non-disaster', 'Disaster'])\n",
    "plt.tight_layout()\n",
    "plt.show()\n",
    "\n",
    "train_df.target.value_counts()"
   ]
  },
  {
   "cell_type": "markdown",
   "id": "de7949ec",
   "metadata": {
    "papermill": {
     "duration": 0.007721,
     "end_time": "2025-04-28T08:49:15.020717",
     "exception": false,
     "start_time": "2025-04-28T08:49:15.012996",
     "status": "completed"
    },
    "tags": []
   },
   "source": [
    "# Model 1: Logistic Regression\n",
    "\n",
    "In this section, we will build a **Logistic Regression** model as a strong baseline for classifying disaster tweets.  \n",
    "\n"
   ]
  },
  {
   "cell_type": "markdown",
   "id": "a5d8163d",
   "metadata": {
    "papermill": {
     "duration": 0.007494,
     "end_time": "2025-04-28T08:49:15.035858",
     "exception": false,
     "start_time": "2025-04-28T08:49:15.028364",
     "status": "completed"
    },
    "tags": []
   },
   "source": [
    "## Data Preprocessing: Train and Test\n",
    "\n",
    "For our training dataset, we apply the following preprocessing steps:\n",
    "- Drop unnecessary columns (`id`, `location`)\n",
    "- Fill missing values in `keyword` with the placeholder `'unknown'`\n",
    "- Remove duplicate tweets based on the `text` column\n",
    "\n",
    "This ensures our data is clean and consistent before moving into feature extraction."
   ]
  },
  {
   "cell_type": "code",
   "execution_count": 6,
   "id": "d60ed79a",
   "metadata": {
    "execution": {
     "iopub.execute_input": "2025-04-28T08:49:15.052779Z",
     "iopub.status.busy": "2025-04-28T08:49:15.052576Z",
     "iopub.status.idle": "2025-04-28T08:49:15.059825Z",
     "shell.execute_reply": "2025-04-28T08:49:15.058968Z"
    },
    "papermill": {
     "duration": 0.016395,
     "end_time": "2025-04-28T08:49:15.060749",
     "exception": false,
     "start_time": "2025-04-28T08:49:15.044354",
     "status": "completed"
    },
    "tags": []
   },
   "outputs": [
    {
     "name": "stdout",
     "output_type": "stream",
     "text": [
      "id             0\n",
      "keyword       61\n",
      "location    2533\n",
      "text           0\n",
      "target         0\n",
      "dtype: int64\n",
      " \n",
      "id             0\n",
      "keyword       26\n",
      "location    1105\n",
      "text           0\n",
      "dtype: int64\n"
     ]
    }
   ],
   "source": [
    "# Check for missing values in the training and test datasets\n",
    "print(train_df.isnull().sum())\n",
    "print(' ')\n",
    "print(test_df.isnull().sum())"
   ]
  },
  {
   "cell_type": "code",
   "execution_count": 7,
   "id": "77d6fdcd",
   "metadata": {
    "execution": {
     "iopub.execute_input": "2025-04-28T08:49:15.076826Z",
     "iopub.status.busy": "2025-04-28T08:49:15.076635Z",
     "iopub.status.idle": "2025-04-28T08:49:15.089642Z",
     "shell.execute_reply": "2025-04-28T08:49:15.089131Z"
    },
    "papermill": {
     "duration": 0.02212,
     "end_time": "2025-04-28T08:49:15.090662",
     "exception": false,
     "start_time": "2025-04-28T08:49:15.068542",
     "status": "completed"
    },
    "tags": []
   },
   "outputs": [
    {
     "data": {
      "text/html": [
       "<div>\n",
       "<style scoped>\n",
       "    .dataframe tbody tr th:only-of-type {\n",
       "        vertical-align: middle;\n",
       "    }\n",
       "\n",
       "    .dataframe tbody tr th {\n",
       "        vertical-align: top;\n",
       "    }\n",
       "\n",
       "    .dataframe thead th {\n",
       "        text-align: right;\n",
       "    }\n",
       "</style>\n",
       "<table border=\"1\" class=\"dataframe\">\n",
       "  <thead>\n",
       "    <tr style=\"text-align: right;\">\n",
       "      <th></th>\n",
       "      <th>keyword</th>\n",
       "      <th>text</th>\n",
       "      <th>target</th>\n",
       "    </tr>\n",
       "  </thead>\n",
       "  <tbody>\n",
       "    <tr>\n",
       "      <th>0</th>\n",
       "      <td>unknown</td>\n",
       "      <td>Our Deeds are the Reason of this #earthquake M...</td>\n",
       "      <td>1</td>\n",
       "    </tr>\n",
       "    <tr>\n",
       "      <th>1</th>\n",
       "      <td>unknown</td>\n",
       "      <td>Forest fire near La Ronge Sask. Canada</td>\n",
       "      <td>1</td>\n",
       "    </tr>\n",
       "    <tr>\n",
       "      <th>2</th>\n",
       "      <td>unknown</td>\n",
       "      <td>All residents asked to 'shelter in place' are ...</td>\n",
       "      <td>1</td>\n",
       "    </tr>\n",
       "    <tr>\n",
       "      <th>3</th>\n",
       "      <td>unknown</td>\n",
       "      <td>13,000 people receive #wildfires evacuation or...</td>\n",
       "      <td>1</td>\n",
       "    </tr>\n",
       "    <tr>\n",
       "      <th>4</th>\n",
       "      <td>unknown</td>\n",
       "      <td>Just got sent this photo from Ruby #Alaska as ...</td>\n",
       "      <td>1</td>\n",
       "    </tr>\n",
       "  </tbody>\n",
       "</table>\n",
       "</div>"
      ],
      "text/plain": [
       "   keyword                                               text  target\n",
       "0  unknown  Our Deeds are the Reason of this #earthquake M...       1\n",
       "1  unknown             Forest fire near La Ronge Sask. Canada       1\n",
       "2  unknown  All residents asked to 'shelter in place' are ...       1\n",
       "3  unknown  13,000 people receive #wildfires evacuation or...       1\n",
       "4  unknown  Just got sent this photo from Ruby #Alaska as ...       1"
      ]
     },
     "execution_count": 7,
     "metadata": {},
     "output_type": "execute_result"
    }
   ],
   "source": [
    "# Drop duplicate tweets, unnecessary columns, and fill missing 'keyword' values\n",
    "df_train = train_df.copy()\n",
    "df_train = df_train.drop_duplicates(subset='text')\n",
    "df_train = df_train.drop(['id', 'location'], axis=1)\n",
    "df_train['keyword'] = df_train['keyword'].fillna('unknown')\n",
    "\n",
    "df_train.head()"
   ]
  },
  {
   "cell_type": "markdown",
   "id": "8bc19add",
   "metadata": {
    "papermill": {
     "duration": 0.007746,
     "end_time": "2025-04-28T08:49:15.106268",
     "exception": false,
     "start_time": "2025-04-28T08:49:15.098522",
     "status": "completed"
    },
    "tags": []
   },
   "source": [
    " Now to improve model performance, we clean the tweet texts by:\n",
    "- Lowercasing all characters\n",
    "- Removing URLs and mentions\n",
    "- Simplifying hashtags (e.g., `#fire` → `fire`)\n",
    "- Removing special characters and numbers\n",
    "- Removing extra spaces\n",
    "- Lemmatizing words and removing stopwords\n",
    "\n",
    "We use a combination of **Regular Expressions (re)** and **spaCy** for efficient text preprocessing."
   ]
  },
  {
   "cell_type": "code",
   "execution_count": 8,
   "id": "61a17df2",
   "metadata": {
    "execution": {
     "iopub.execute_input": "2025-04-28T08:49:15.122631Z",
     "iopub.status.busy": "2025-04-28T08:49:15.122422Z",
     "iopub.status.idle": "2025-04-28T08:49:23.289836Z",
     "shell.execute_reply": "2025-04-28T08:49:23.289241Z"
    },
    "papermill": {
     "duration": 8.17724,
     "end_time": "2025-04-28T08:49:23.291230",
     "exception": false,
     "start_time": "2025-04-28T08:49:15.113990",
     "status": "completed"
    },
    "tags": []
   },
   "outputs": [],
   "source": [
    "import re\n",
    "import spacy\n",
    "\n",
    "# Load the spaCy English model (with parser and NER disabled for faster performance)\n",
    "nlp = spacy.load(\"en_core_web_sm\", disable=[\"parser\", \"ner\"])\n",
    "\n",
    "def clean_text_spacy(text):\n",
    "    text = text.lower() # Convert to lowercase\n",
    "    text = re.sub(r\"http\\S+|www\\S+|@\\w+\", \"\", text) # Remove URLs and mentions\n",
    "    text = re.sub(r\"#(\\w+)\", r\"\\1\", text) # Simplify hashtags by removing the '#' symbol\n",
    "    text = re.sub(r\"[^a-zA-Z\\s]\", \"\", text) # Remove special characters and numbers\n",
    "    text = re.sub(r\"\\s+\", \" \", text).strip() # Remove extra whitespace\n",
    "    \n",
    "    # Lemmatize and remove stopwords, keep tokens longer than 2 characters\n",
    "    doc = nlp(text)\n",
    "    tokens = [token.lemma_ for token in doc if not token.is_stop and len(token) > 2]\n",
    "    \n",
    "    return \" \".join(tokens)"
   ]
  },
  {
   "cell_type": "code",
   "execution_count": 9,
   "id": "3558dc0c",
   "metadata": {
    "execution": {
     "iopub.execute_input": "2025-04-28T08:49:23.309007Z",
     "iopub.status.busy": "2025-04-28T08:49:23.308589Z",
     "iopub.status.idle": "2025-04-28T08:49:44.926922Z",
     "shell.execute_reply": "2025-04-28T08:49:44.926241Z"
    },
    "papermill": {
     "duration": 21.628677,
     "end_time": "2025-04-28T08:49:44.928390",
     "exception": false,
     "start_time": "2025-04-28T08:49:23.299713",
     "status": "completed"
    },
    "tags": []
   },
   "outputs": [
    {
     "data": {
      "text/html": [
       "<div>\n",
       "<style scoped>\n",
       "    .dataframe tbody tr th:only-of-type {\n",
       "        vertical-align: middle;\n",
       "    }\n",
       "\n",
       "    .dataframe tbody tr th {\n",
       "        vertical-align: top;\n",
       "    }\n",
       "\n",
       "    .dataframe thead th {\n",
       "        text-align: right;\n",
       "    }\n",
       "</style>\n",
       "<table border=\"1\" class=\"dataframe\">\n",
       "  <thead>\n",
       "    <tr style=\"text-align: right;\">\n",
       "      <th></th>\n",
       "      <th>keyword</th>\n",
       "      <th>text</th>\n",
       "      <th>target</th>\n",
       "      <th>cleaned_text</th>\n",
       "    </tr>\n",
       "  </thead>\n",
       "  <tbody>\n",
       "    <tr>\n",
       "      <th>0</th>\n",
       "      <td>unknown</td>\n",
       "      <td>Our Deeds are the Reason of this #earthquake M...</td>\n",
       "      <td>1</td>\n",
       "      <td>deed reason earthquake allah forgive</td>\n",
       "    </tr>\n",
       "    <tr>\n",
       "      <th>1</th>\n",
       "      <td>unknown</td>\n",
       "      <td>Forest fire near La Ronge Sask. Canada</td>\n",
       "      <td>1</td>\n",
       "      <td>forest fire near ronge sask canada</td>\n",
       "    </tr>\n",
       "    <tr>\n",
       "      <th>2</th>\n",
       "      <td>unknown</td>\n",
       "      <td>All residents asked to 'shelter in place' are ...</td>\n",
       "      <td>1</td>\n",
       "      <td>resident ask shelter place notify officer evac...</td>\n",
       "    </tr>\n",
       "    <tr>\n",
       "      <th>3</th>\n",
       "      <td>unknown</td>\n",
       "      <td>13,000 people receive #wildfires evacuation or...</td>\n",
       "      <td>1</td>\n",
       "      <td>people receive wildfire evacuation order calif...</td>\n",
       "    </tr>\n",
       "    <tr>\n",
       "      <th>4</th>\n",
       "      <td>unknown</td>\n",
       "      <td>Just got sent this photo from Ruby #Alaska as ...</td>\n",
       "      <td>1</td>\n",
       "      <td>get send photo ruby alaska smoke wildfires pou...</td>\n",
       "    </tr>\n",
       "  </tbody>\n",
       "</table>\n",
       "</div>"
      ],
      "text/plain": [
       "   keyword                                               text  target  \\\n",
       "0  unknown  Our Deeds are the Reason of this #earthquake M...       1   \n",
       "1  unknown             Forest fire near La Ronge Sask. Canada       1   \n",
       "2  unknown  All residents asked to 'shelter in place' are ...       1   \n",
       "3  unknown  13,000 people receive #wildfires evacuation or...       1   \n",
       "4  unknown  Just got sent this photo from Ruby #Alaska as ...       1   \n",
       "\n",
       "                                        cleaned_text  \n",
       "0               deed reason earthquake allah forgive  \n",
       "1                 forest fire near ronge sask canada  \n",
       "2  resident ask shelter place notify officer evac...  \n",
       "3  people receive wildfire evacuation order calif...  \n",
       "4  get send photo ruby alaska smoke wildfires pou...  "
      ]
     },
     "execution_count": 9,
     "metadata": {},
     "output_type": "execute_result"
    }
   ],
   "source": [
    "df_train_processed = df_train.copy()\n",
    "df_train_processed['cleaned_text'] = df_train_processed['text'].apply(clean_text_spacy)\n",
    "\n",
    "df_train_processed.head()"
   ]
  },
  {
   "cell_type": "markdown",
   "id": "c9400504",
   "metadata": {
    "papermill": {
     "duration": 0.009955,
     "end_time": "2025-04-28T08:49:44.948737",
     "exception": false,
     "start_time": "2025-04-28T08:49:44.938782",
     "status": "completed"
    },
    "tags": []
   },
   "source": [
    "## Decoding URL-Encoded Keywords\n",
    "\n",
    "In the dataset, the `keyword` column sometimes contains **URL-encoded** strings.  \n",
    "This means that special characters like spaces (`%20`) and plus signs (`+`) are used instead of normal spaces.\n",
    "\n",
    "For example:\n",
    "- `forest+fire` ➔ **should be** `forest fire`\n",
    "- `fatal%20accident` ➔ **should be** `fatal accident`\n",
    "\n",
    "If we leave them as-is, the model will treat them as completely different tokens, hurting its understanding of the text.  \n",
    "By decoding these keywords properly, we make sure the information is **consistent**, **readable**, and **helpful** for the model during training."
   ]
  },
  {
   "cell_type": "code",
   "execution_count": 10,
   "id": "181764e7",
   "metadata": {
    "execution": {
     "iopub.execute_input": "2025-04-28T08:49:44.966975Z",
     "iopub.status.busy": "2025-04-28T08:49:44.966744Z",
     "iopub.status.idle": "2025-04-28T08:49:44.973123Z",
     "shell.execute_reply": "2025-04-28T08:49:44.972513Z"
    },
    "papermill": {
     "duration": 0.016577,
     "end_time": "2025-04-28T08:49:44.974135",
     "exception": false,
     "start_time": "2025-04-28T08:49:44.957558",
     "status": "completed"
    },
    "tags": []
   },
   "outputs": [
    {
     "data": {
      "text/plain": [
       "array(['unknown', 'ablaze', 'accident', 'aftershock',\n",
       "       'airplane%20accident', 'ambulance', 'annihilated', 'annihilation',\n",
       "       'apocalypse', 'armageddon', 'army', 'arson', 'arsonist', 'attack',\n",
       "       'attacked', 'avalanche', 'battle', 'bioterror', 'bioterrorism',\n",
       "       'blaze', 'blazing', 'bleeding', 'blew%20up', 'blight', 'blizzard',\n",
       "       'blood', 'bloody', 'blown%20up', 'body%20bag', 'body%20bagging',\n",
       "       'body%20bags', 'bomb', 'bombed', 'bombing', 'bridge%20collapse',\n",
       "       'buildings%20burning', 'buildings%20on%20fire', 'burned',\n",
       "       'burning', 'burning%20buildings', 'bush%20fires', 'casualties',\n",
       "       'casualty', 'catastrophe', 'catastrophic', 'chemical%20emergency',\n",
       "       'cliff%20fall', 'collapse', 'collapsed', 'collide', 'collided',\n",
       "       'collision', 'crash', 'crashed', 'crush', 'crushed', 'curfew',\n",
       "       'cyclone', 'damage', 'danger', 'dead', 'death', 'deaths', 'debris',\n",
       "       'deluge', 'deluged', 'demolish', 'demolished', 'demolition',\n",
       "       'derail', 'derailed', 'derailment', 'desolate', 'desolation',\n",
       "       'destroy', 'destroyed', 'destruction', 'detonate', 'detonation',\n",
       "       'devastated', 'devastation', 'disaster', 'displaced', 'drought',\n",
       "       'drown', 'drowned', 'drowning', 'dust%20storm', 'earthquake',\n",
       "       'electrocute', 'electrocuted', 'emergency', 'emergency%20plan',\n",
       "       'emergency%20services', 'engulfed', 'epicentre', 'evacuate',\n",
       "       'evacuated', 'evacuation', 'explode', 'exploded', 'explosion',\n",
       "       'eyewitness', 'famine', 'fatal', 'fatalities', 'fatality', 'fear',\n",
       "       'fire', 'fire%20truck', 'first%20responders', 'flames',\n",
       "       'flattened', 'flood', 'flooding', 'floods', 'forest%20fire',\n",
       "       'forest%20fires', 'hail', 'hailstorm', 'harm', 'hazard',\n",
       "       'hazardous', 'heat%20wave', 'hellfire', 'hijack', 'hijacker',\n",
       "       'hijacking', 'hostage', 'hostages', 'hurricane', 'injured',\n",
       "       'injuries', 'injury', 'inundated', 'inundation', 'landslide',\n",
       "       'lava', 'lightning', 'loud%20bang', 'mass%20murder',\n",
       "       'mass%20murderer', 'massacre', 'mayhem', 'meltdown', 'military',\n",
       "       'mudslide', 'natural%20disaster', 'nuclear%20disaster',\n",
       "       'nuclear%20reactor', 'obliterate', 'obliterated', 'obliteration',\n",
       "       'oil%20spill', 'outbreak', 'pandemonium', 'panic', 'panicking',\n",
       "       'police', 'quarantine', 'quarantined', 'radiation%20emergency',\n",
       "       'rainstorm', 'razed', 'refugees', 'rescue', 'rescued', 'rescuers',\n",
       "       'riot', 'rioting', 'rubble', 'ruin', 'sandstorm', 'screamed',\n",
       "       'screaming', 'screams', 'seismic', 'sinkhole', 'sinking', 'siren',\n",
       "       'sirens', 'smoke', 'snowstorm', 'storm', 'stretcher',\n",
       "       'structural%20failure', 'suicide%20bomb', 'suicide%20bomber',\n",
       "       'suicide%20bombing', 'sunk', 'survive', 'survived', 'survivors',\n",
       "       'terrorism', 'terrorist', 'threat', 'thunder', 'thunderstorm',\n",
       "       'tornado', 'tragedy', 'trapped', 'trauma', 'traumatised',\n",
       "       'trouble', 'tsunami', 'twister', 'typhoon', 'upheaval',\n",
       "       'violent%20storm', 'volcano', 'war%20zone', 'weapon', 'weapons',\n",
       "       'whirlwind', 'wild%20fires', 'wildfire', 'windstorm', 'wounded',\n",
       "       'wounds', 'wreck', 'wreckage', 'wrecked'], dtype=object)"
      ]
     },
     "execution_count": 10,
     "metadata": {},
     "output_type": "execute_result"
    }
   ],
   "source": [
    "df_train_processed.keyword.unique()"
   ]
  },
  {
   "cell_type": "code",
   "execution_count": 11,
   "id": "482b29d3",
   "metadata": {
    "execution": {
     "iopub.execute_input": "2025-04-28T08:49:45.035382Z",
     "iopub.status.busy": "2025-04-28T08:49:45.034937Z",
     "iopub.status.idle": "2025-04-28T08:49:45.047635Z",
     "shell.execute_reply": "2025-04-28T08:49:45.046881Z"
    },
    "papermill": {
     "duration": 0.022881,
     "end_time": "2025-04-28T08:49:45.048758",
     "exception": false,
     "start_time": "2025-04-28T08:49:45.025877",
     "status": "completed"
    },
    "tags": []
   },
   "outputs": [],
   "source": [
    "# Import utility for decoding URL-encoded keywords\n",
    "from urllib.parse import unquote\n",
    "\n",
    "df_train_processed['keyword'] = df_train_processed['keyword'].apply(lambda x: unquote(x.replace('+', ' ')))\n",
    "\n",
    "# Combine 'keyword' and 'cleaned_text' into a single 'final_text' column\n",
    "df_train_processed['final_text'] = df_train_processed['keyword'] + ' ' + df_train_processed['cleaned_text']"
   ]
  },
  {
   "cell_type": "code",
   "execution_count": 12,
   "id": "88f27406",
   "metadata": {
    "execution": {
     "iopub.execute_input": "2025-04-28T08:49:45.066645Z",
     "iopub.status.busy": "2025-04-28T08:49:45.066426Z",
     "iopub.status.idle": "2025-04-28T08:49:45.074780Z",
     "shell.execute_reply": "2025-04-28T08:49:45.074236Z"
    },
    "papermill": {
     "duration": 0.018455,
     "end_time": "2025-04-28T08:49:45.075814",
     "exception": false,
     "start_time": "2025-04-28T08:49:45.057359",
     "status": "completed"
    },
    "tags": []
   },
   "outputs": [
    {
     "data": {
      "text/html": [
       "<div>\n",
       "<style scoped>\n",
       "    .dataframe tbody tr th:only-of-type {\n",
       "        vertical-align: middle;\n",
       "    }\n",
       "\n",
       "    .dataframe tbody tr th {\n",
       "        vertical-align: top;\n",
       "    }\n",
       "\n",
       "    .dataframe thead th {\n",
       "        text-align: right;\n",
       "    }\n",
       "</style>\n",
       "<table border=\"1\" class=\"dataframe\">\n",
       "  <thead>\n",
       "    <tr style=\"text-align: right;\">\n",
       "      <th></th>\n",
       "      <th>final_text</th>\n",
       "      <th>target</th>\n",
       "    </tr>\n",
       "  </thead>\n",
       "  <tbody>\n",
       "    <tr>\n",
       "      <th>0</th>\n",
       "      <td>unknown deed reason earthquake allah forgive</td>\n",
       "      <td>1</td>\n",
       "    </tr>\n",
       "    <tr>\n",
       "      <th>1</th>\n",
       "      <td>unknown forest fire near ronge sask canada</td>\n",
       "      <td>1</td>\n",
       "    </tr>\n",
       "    <tr>\n",
       "      <th>2</th>\n",
       "      <td>unknown resident ask shelter place notify offi...</td>\n",
       "      <td>1</td>\n",
       "    </tr>\n",
       "    <tr>\n",
       "      <th>3</th>\n",
       "      <td>unknown people receive wildfire evacuation ord...</td>\n",
       "      <td>1</td>\n",
       "    </tr>\n",
       "    <tr>\n",
       "      <th>4</th>\n",
       "      <td>unknown get send photo ruby alaska smoke wildf...</td>\n",
       "      <td>1</td>\n",
       "    </tr>\n",
       "  </tbody>\n",
       "</table>\n",
       "</div>"
      ],
      "text/plain": [
       "                                          final_text  target\n",
       "0       unknown deed reason earthquake allah forgive       1\n",
       "1         unknown forest fire near ronge sask canada       1\n",
       "2  unknown resident ask shelter place notify offi...       1\n",
       "3  unknown people receive wildfire evacuation ord...       1\n",
       "4  unknown get send photo ruby alaska smoke wildf...       1"
      ]
     },
     "execution_count": 12,
     "metadata": {},
     "output_type": "execute_result"
    }
   ],
   "source": [
    "# Drop unnecessary columns\n",
    "df_train_processed = df_train_processed.drop(['keyword', 'text', 'cleaned_text'], axis=1)\n",
    "\n",
    "# Keep only the final features for modeling\n",
    "df_train_processed = df_train_processed[['final_text', 'target']]\n",
    "\n",
    "df_train_processed.head()"
   ]
  },
  {
   "cell_type": "markdown",
   "id": "3408ae65",
   "metadata": {
    "papermill": {
     "duration": 0.008481,
     "end_time": "2025-04-28T08:49:45.092748",
     "exception": false,
     "start_time": "2025-04-28T08:49:45.084267",
     "status": "completed"
    },
    "tags": []
   },
   "source": [
    "## Feature Extraction and Model Training\n",
    "\n",
    "Now that the data is cleaned and prepared, we can move to feature extraction and model training.\n",
    "\n",
    "We will:\n",
    "- Transform the text into numerical vectors using **TF-IDF** with unigrams and bigrams\n",
    "- Split the dataset into training and validation sets\n",
    "- Train a **Logistic Regression** model with class balancing to account for target imbalance\n"
   ]
  },
  {
   "cell_type": "code",
   "execution_count": 13,
   "id": "d9847f97",
   "metadata": {
    "execution": {
     "iopub.execute_input": "2025-04-28T08:49:45.110253Z",
     "iopub.status.busy": "2025-04-28T08:49:45.110035Z",
     "iopub.status.idle": "2025-04-28T08:49:45.307666Z",
     "shell.execute_reply": "2025-04-28T08:49:45.307074Z"
    },
    "papermill": {
     "duration": 0.20784,
     "end_time": "2025-04-28T08:49:45.308906",
     "exception": false,
     "start_time": "2025-04-28T08:49:45.101066",
     "status": "completed"
    },
    "tags": []
   },
   "outputs": [],
   "source": [
    "# Initialize the TF-IDF Vectorizer\n",
    "vectorizer = TfidfVectorizer(\n",
    "    max_features=10000,        # Use top 10,000 features\n",
    "    ngram_range=(1, 2),         # Consider both unigrams and bigrams\n",
    "    stop_words=None             # Stopwords were already handled manually\n",
    ")\n",
    "\n",
    "# Transform the text data into TF-IDF vectors\n",
    "X = vectorizer.fit_transform(df_train_processed['final_text'])\n",
    "y = df_train_processed['target']"
   ]
  },
  {
   "cell_type": "code",
   "execution_count": 14,
   "id": "a00cf18f",
   "metadata": {
    "execution": {
     "iopub.execute_input": "2025-04-28T08:49:45.327263Z",
     "iopub.status.busy": "2025-04-28T08:49:45.326980Z",
     "iopub.status.idle": "2025-04-28T08:49:45.334663Z",
     "shell.execute_reply": "2025-04-28T08:49:45.334163Z"
    },
    "papermill": {
     "duration": 0.017873,
     "end_time": "2025-04-28T08:49:45.335781",
     "exception": false,
     "start_time": "2025-04-28T08:49:45.317908",
     "status": "completed"
    },
    "tags": []
   },
   "outputs": [],
   "source": [
    "# Split the data into training and validation sets\n",
    "X_train, X_val, y_train, y_val = train_test_split(\n",
    "    X, y, \n",
    "    test_size=0.2,        \n",
    "    stratify=y,           # Stratified split to preserve class distribution\n",
    "    random_state=42\n",
    ")"
   ]
  },
  {
   "cell_type": "code",
   "execution_count": 15,
   "id": "060da6e2",
   "metadata": {
    "execution": {
     "iopub.execute_input": "2025-04-28T08:49:45.353653Z",
     "iopub.status.busy": "2025-04-28T08:49:45.353469Z",
     "iopub.status.idle": "2025-04-28T08:49:45.612548Z",
     "shell.execute_reply": "2025-04-28T08:49:45.611833Z"
    },
    "papermill": {
     "duration": 0.270578,
     "end_time": "2025-04-28T08:49:45.615024",
     "exception": false,
     "start_time": "2025-04-28T08:49:45.344446",
     "status": "completed"
    },
    "tags": []
   },
   "outputs": [
    {
     "data": {
      "text/html": [
       "<style>#sk-container-id-1 {color: black;background-color: white;}#sk-container-id-1 pre{padding: 0;}#sk-container-id-1 div.sk-toggleable {background-color: white;}#sk-container-id-1 label.sk-toggleable__label {cursor: pointer;display: block;width: 100%;margin-bottom: 0;padding: 0.3em;box-sizing: border-box;text-align: center;}#sk-container-id-1 label.sk-toggleable__label-arrow:before {content: \"▸\";float: left;margin-right: 0.25em;color: #696969;}#sk-container-id-1 label.sk-toggleable__label-arrow:hover:before {color: black;}#sk-container-id-1 div.sk-estimator:hover label.sk-toggleable__label-arrow:before {color: black;}#sk-container-id-1 div.sk-toggleable__content {max-height: 0;max-width: 0;overflow: hidden;text-align: left;background-color: #f0f8ff;}#sk-container-id-1 div.sk-toggleable__content pre {margin: 0.2em;color: black;border-radius: 0.25em;background-color: #f0f8ff;}#sk-container-id-1 input.sk-toggleable__control:checked~div.sk-toggleable__content {max-height: 200px;max-width: 100%;overflow: auto;}#sk-container-id-1 input.sk-toggleable__control:checked~label.sk-toggleable__label-arrow:before {content: \"▾\";}#sk-container-id-1 div.sk-estimator input.sk-toggleable__control:checked~label.sk-toggleable__label {background-color: #d4ebff;}#sk-container-id-1 div.sk-label input.sk-toggleable__control:checked~label.sk-toggleable__label {background-color: #d4ebff;}#sk-container-id-1 input.sk-hidden--visually {border: 0;clip: rect(1px 1px 1px 1px);clip: rect(1px, 1px, 1px, 1px);height: 1px;margin: -1px;overflow: hidden;padding: 0;position: absolute;width: 1px;}#sk-container-id-1 div.sk-estimator {font-family: monospace;background-color: #f0f8ff;border: 1px dotted black;border-radius: 0.25em;box-sizing: border-box;margin-bottom: 0.5em;}#sk-container-id-1 div.sk-estimator:hover {background-color: #d4ebff;}#sk-container-id-1 div.sk-parallel-item::after {content: \"\";width: 100%;border-bottom: 1px solid gray;flex-grow: 1;}#sk-container-id-1 div.sk-label:hover label.sk-toggleable__label {background-color: #d4ebff;}#sk-container-id-1 div.sk-serial::before {content: \"\";position: absolute;border-left: 1px solid gray;box-sizing: border-box;top: 0;bottom: 0;left: 50%;z-index: 0;}#sk-container-id-1 div.sk-serial {display: flex;flex-direction: column;align-items: center;background-color: white;padding-right: 0.2em;padding-left: 0.2em;position: relative;}#sk-container-id-1 div.sk-item {position: relative;z-index: 1;}#sk-container-id-1 div.sk-parallel {display: flex;align-items: stretch;justify-content: center;background-color: white;position: relative;}#sk-container-id-1 div.sk-item::before, #sk-container-id-1 div.sk-parallel-item::before {content: \"\";position: absolute;border-left: 1px solid gray;box-sizing: border-box;top: 0;bottom: 0;left: 50%;z-index: -1;}#sk-container-id-1 div.sk-parallel-item {display: flex;flex-direction: column;z-index: 1;position: relative;background-color: white;}#sk-container-id-1 div.sk-parallel-item:first-child::after {align-self: flex-end;width: 50%;}#sk-container-id-1 div.sk-parallel-item:last-child::after {align-self: flex-start;width: 50%;}#sk-container-id-1 div.sk-parallel-item:only-child::after {width: 0;}#sk-container-id-1 div.sk-dashed-wrapped {border: 1px dashed gray;margin: 0 0.4em 0.5em 0.4em;box-sizing: border-box;padding-bottom: 0.4em;background-color: white;}#sk-container-id-1 div.sk-label label {font-family: monospace;font-weight: bold;display: inline-block;line-height: 1.2em;}#sk-container-id-1 div.sk-label-container {text-align: center;}#sk-container-id-1 div.sk-container {/* jupyter's `normalize.less` sets `[hidden] { display: none; }` but bootstrap.min.css set `[hidden] { display: none !important; }` so we also need the `!important` here to be able to override the default hidden behavior on the sphinx rendered scikit-learn.org. See: https://github.com/scikit-learn/scikit-learn/issues/21755 */display: inline-block !important;position: relative;}#sk-container-id-1 div.sk-text-repr-fallback {display: none;}</style><div id=\"sk-container-id-1\" class=\"sk-top-container\"><div class=\"sk-text-repr-fallback\"><pre>LogisticRegression(class_weight=&#x27;balanced&#x27;, max_iter=1000)</pre><b>In a Jupyter environment, please rerun this cell to show the HTML representation or trust the notebook. <br />On GitHub, the HTML representation is unable to render, please try loading this page with nbviewer.org.</b></div><div class=\"sk-container\" hidden><div class=\"sk-item\"><div class=\"sk-estimator sk-toggleable\"><input class=\"sk-toggleable__control sk-hidden--visually\" id=\"sk-estimator-id-1\" type=\"checkbox\" checked><label for=\"sk-estimator-id-1\" class=\"sk-toggleable__label sk-toggleable__label-arrow\">LogisticRegression</label><div class=\"sk-toggleable__content\"><pre>LogisticRegression(class_weight=&#x27;balanced&#x27;, max_iter=1000)</pre></div></div></div></div></div>"
      ],
      "text/plain": [
       "LogisticRegression(class_weight='balanced', max_iter=1000)"
      ]
     },
     "execution_count": 15,
     "metadata": {},
     "output_type": "execute_result"
    }
   ],
   "source": [
    "model = LogisticRegression(max_iter=1000, class_weight='balanced')  \n",
    "model.fit(X_train, y_train)"
   ]
  },
  {
   "cell_type": "markdown",
   "id": "50ed01d1",
   "metadata": {
    "papermill": {
     "duration": 0.014124,
     "end_time": "2025-04-28T08:49:45.643974",
     "exception": false,
     "start_time": "2025-04-28T08:49:45.629850",
     "status": "completed"
    },
    "tags": []
   },
   "source": [
    "## Model Evaluation\n",
    "\n",
    "After training the Logistic Regression model, we evaluate its performance on the validation set.\n",
    "\n",
    "We use:\n",
    "- **Classification Report**: to check precision, recall, and F1-score\n",
    "- **Confusion Matrix**: to visualize the correct and incorrect predictions\n"
   ]
  },
  {
   "cell_type": "code",
   "execution_count": 16,
   "id": "64630208",
   "metadata": {
    "execution": {
     "iopub.execute_input": "2025-04-28T08:49:45.673222Z",
     "iopub.status.busy": "2025-04-28T08:49:45.672970Z",
     "iopub.status.idle": "2025-04-28T08:49:45.699392Z",
     "shell.execute_reply": "2025-04-28T08:49:45.698700Z"
    },
    "papermill": {
     "duration": 0.042582,
     "end_time": "2025-04-28T08:49:45.700760",
     "exception": false,
     "start_time": "2025-04-28T08:49:45.658178",
     "status": "completed"
    },
    "tags": []
   },
   "outputs": [
    {
     "name": "stdout",
     "output_type": "stream",
     "text": [
      "Validation classification report:\n",
      "              precision    recall  f1-score   support\n",
      "\n",
      "           0       0.83      0.84      0.83       861\n",
      "           1       0.78      0.76      0.77       640\n",
      "\n",
      "    accuracy                           0.81      1501\n",
      "   macro avg       0.80      0.80      0.80      1501\n",
      "weighted avg       0.81      0.81      0.81      1501\n",
      "\n",
      " \n",
      "Train classification report:\n",
      "              precision    recall  f1-score   support\n",
      "\n",
      "           0       0.88      0.89      0.89      3444\n",
      "           1       0.85      0.84      0.85      2558\n",
      "\n",
      "    accuracy                           0.87      6002\n",
      "   macro avg       0.87      0.87      0.87      6002\n",
      "weighted avg       0.87      0.87      0.87      6002\n",
      "\n"
     ]
    }
   ],
   "source": [
    "y_pred_val = model.predict(X_val)\n",
    "y_pred_train = model.predict(X_train)\n",
    "\n",
    "print(\"Validation classification report:\")\n",
    "print(classification_report(y_val, y_pred_val))\n",
    "print(' ')\n",
    "print(\"Train classification report:\")\n",
    "print(classification_report(y_train, y_pred_train))"
   ]
  },
  {
   "cell_type": "code",
   "execution_count": 17,
   "id": "146b9b4c",
   "metadata": {
    "execution": {
     "iopub.execute_input": "2025-04-28T08:49:45.728992Z",
     "iopub.status.busy": "2025-04-28T08:49:45.728760Z",
     "iopub.status.idle": "2025-04-28T08:49:45.732508Z",
     "shell.execute_reply": "2025-04-28T08:49:45.732059Z"
    },
    "papermill": {
     "duration": 0.018181,
     "end_time": "2025-04-28T08:49:45.733543",
     "exception": false,
     "start_time": "2025-04-28T08:49:45.715362",
     "status": "completed"
    },
    "tags": []
   },
   "outputs": [],
   "source": [
    "def plot_confusion_matrix(y_true, y_pred, title):\n",
    "    cm = confusion_matrix(y_true, y_pred)\n",
    "    plt.figure(figsize=(6,4))\n",
    "    sns.heatmap(cm, annot=True, fmt=\"d\", cmap=\"Blues\")\n",
    "    plt.xlabel(\"Predicted\")\n",
    "    plt.ylabel(\"Actual\")\n",
    "    plt.title(title)\n",
    "    plt.show()"
   ]
  },
  {
   "cell_type": "code",
   "execution_count": 18,
   "id": "2101ea8b",
   "metadata": {
    "execution": {
     "iopub.execute_input": "2025-04-28T08:49:45.751242Z",
     "iopub.status.busy": "2025-04-28T08:49:45.751022Z",
     "iopub.status.idle": "2025-04-28T08:49:45.924451Z",
     "shell.execute_reply": "2025-04-28T08:49:45.923763Z"
    },
    "papermill": {
     "duration": 0.183536,
     "end_time": "2025-04-28T08:49:45.925516",
     "exception": false,
     "start_time": "2025-04-28T08:49:45.741980",
     "status": "completed"
    },
    "tags": []
   },
   "outputs": [
    {
     "data": {
      "image/png": "[encoded data removed]",
      "text/plain": [
       "<Figure size 600x400 with 2 Axes>"
      ]
     },
     "metadata": {},
     "output_type": "display_data"
    }
   ],
   "source": [
    "plot_confusion_matrix(y_val, y_pred_val, \"Confusion Matrix — Validation\")"
   ]
  },
  {
   "cell_type": "code",
   "execution_count": 19,
   "id": "94576cad",
   "metadata": {
    "execution": {
     "iopub.execute_input": "2025-04-28T08:49:45.944554Z",
     "iopub.status.busy": "2025-04-28T08:49:45.944150Z",
     "iopub.status.idle": "2025-04-28T08:49:46.116686Z",
     "shell.execute_reply": "2025-04-28T08:49:46.116105Z"
    },
    "papermill": {
     "duration": 0.183175,
     "end_time": "2025-04-28T08:49:46.117846",
     "exception": false,
     "start_time": "2025-04-28T08:49:45.934671",
     "status": "completed"
    },
    "tags": []
   },
   "outputs": [
    {
     "data": {
      "image/png": "[encoded data removed]",
      "text/plain": [
       "<Figure size 600x400 with 2 Axes>"
      ]
     },
     "metadata": {},
     "output_type": "display_data"
    }
   ],
   "source": [
    "plot_confusion_matrix(y_train, y_pred_train, \"Confusion Matrix — Train\")"
   ]
  },
  {
   "cell_type": "markdown",
   "id": "a9dd32fa",
   "metadata": {
    "papermill": {
     "duration": 0.008942,
     "end_time": "2025-04-28T08:49:46.136505",
     "exception": false,
     "start_time": "2025-04-28T08:49:46.127563",
     "status": "completed"
    },
    "tags": []
   },
   "source": [
    "## Summary: Logistic Regression Performance\n",
    "\n",
    "The Logistic Regression model demonstrated reasonable performance on the disaster tweet classification task with the final `F1-score = 0.81`\n",
    "\n",
    "Key points:\n",
    "- Used TF-IDF features based on unigrams and bigrams\n",
    "- Balanced class weights to address the target imbalance\n",
    "- Achieved decent precision, recall, and F1-scores\n",
    "- Most errors occurred between confusing non-disaster and disaster tweets, as seen in the confusion matrix\n",
    "\n",
    "Now, let's move on to a more powerful approach using a pretrained transformer model — **DistilBERT**!\n"
   ]
  },
  {
   "cell_type": "markdown",
   "id": "7b411238",
   "metadata": {
    "papermill": {
     "duration": 0.008944,
     "end_time": "2025-04-28T08:49:46.154639",
     "exception": false,
     "start_time": "2025-04-28T08:49:46.145695",
     "status": "completed"
    },
    "tags": []
   },
   "source": [
    "# Model 2: DistilBERT\n",
    "\n",
    "In this section, we will fine-tune a **DistilBERT** model on our disaster tweets dataset.\n",
    "\n",
    "Unlike Logistic Regression, DistilBERT leverages deep contextualized word embeddings, allowing it to better understand the meaning of each tweet. So we don't need to do a lot of preprocessing\n",
    "\n",
    "Let's start by preparing the data.\n"
   ]
  },
  {
   "cell_type": "code",
   "execution_count": 20,
   "id": "f2d53dfd",
   "metadata": {
    "execution": {
     "iopub.execute_input": "2025-04-28T08:49:46.174032Z",
     "iopub.status.busy": "2025-04-28T08:49:46.173436Z",
     "iopub.status.idle": "2025-04-28T08:49:59.766111Z",
     "shell.execute_reply": "2025-04-28T08:49:59.765518Z"
    },
    "papermill": {
     "duration": 13.603752,
     "end_time": "2025-04-28T08:49:59.767528",
     "exception": false,
     "start_time": "2025-04-28T08:49:46.163776",
     "status": "completed"
    },
    "tags": []
   },
   "outputs": [
    {
     "name": "stderr",
     "output_type": "stream",
     "text": [
      "2025-04-28 08:49:47.868173: E external/local_xla/xla/stream_executor/cuda/cuda_fft.cc:477] Unable to register cuFFT factory: Attempting to register factory for plugin cuFFT when one has already been registered\n",
      "WARNING: All log messages before absl::InitializeLog() is called are written to STDERR\n",
      "E0000 00:00:1745830188.085236      19 cuda_dnn.cc:8310] Unable to register cuDNN factory: Attempting to register factory for plugin cuDNN when one has already been registered\n",
      "E0000 00:00:1745830188.149488      19 cuda_blas.cc:1418] Unable to register cuBLAS factory: Attempting to register factory for plugin cuBLAS when one has already been registered\n"
     ]
    },
    {
     "name": "stdout",
     "output_type": "stream",
     "text": [
      "Using TensorFlow backend\n"
     ]
    }
   ],
   "source": [
    "import keras_nlp\n",
    "import keras_core as keras\n",
    "from keras_nlp.models import DistilBertClassifier\n",
    "from keras import losses, optimizers"
   ]
  },
  {
   "cell_type": "markdown",
   "id": "b55e47a0",
   "metadata": {
    "papermill": {
     "duration": 0.009226,
     "end_time": "2025-04-28T08:49:59.786789",
     "exception": false,
     "start_time": "2025-04-28T08:49:59.777563",
     "status": "completed"
    },
    "tags": []
   },
   "source": [
    "## Preparing the Dataset for DistilBERT\n",
    "\n",
    "We apply the same basic preprocessing as before:\n",
    "- Drop duplicate tweets (train set only)\n",
    "- Remove unnecessary columns (`id`, `location`)\n",
    "- Fill missing `keyword` values with a placeholder `'unknown'`\n",
    "- Decoding URL-Encoded `keyword`"
   ]
  },
  {
   "cell_type": "code",
   "execution_count": 21,
   "id": "f0f3fd37",
   "metadata": {
    "execution": {
     "iopub.execute_input": "2025-04-28T08:49:59.806339Z",
     "iopub.status.busy": "2025-04-28T08:49:59.805827Z",
     "iopub.status.idle": "2025-04-28T08:49:59.819821Z",
     "shell.execute_reply": "2025-04-28T08:49:59.819162Z"
    },
    "papermill": {
     "duration": 0.025024,
     "end_time": "2025-04-28T08:49:59.820949",
     "exception": false,
     "start_time": "2025-04-28T08:49:59.795925",
     "status": "completed"
    },
    "tags": []
   },
   "outputs": [
    {
     "data": {
      "text/html": [
       "<div>\n",
       "<style scoped>\n",
       "    .dataframe tbody tr th:only-of-type {\n",
       "        vertical-align: middle;\n",
       "    }\n",
       "\n",
       "    .dataframe tbody tr th {\n",
       "        vertical-align: top;\n",
       "    }\n",
       "\n",
       "    .dataframe thead th {\n",
       "        text-align: right;\n",
       "    }\n",
       "</style>\n",
       "<table border=\"1\" class=\"dataframe\">\n",
       "  <thead>\n",
       "    <tr style=\"text-align: right;\">\n",
       "      <th></th>\n",
       "      <th>keyword</th>\n",
       "      <th>text</th>\n",
       "      <th>target</th>\n",
       "    </tr>\n",
       "  </thead>\n",
       "  <tbody>\n",
       "    <tr>\n",
       "      <th>0</th>\n",
       "      <td>unknown</td>\n",
       "      <td>Our Deeds are the Reason of this #earthquake M...</td>\n",
       "      <td>1</td>\n",
       "    </tr>\n",
       "    <tr>\n",
       "      <th>1</th>\n",
       "      <td>unknown</td>\n",
       "      <td>Forest fire near La Ronge Sask. Canada</td>\n",
       "      <td>1</td>\n",
       "    </tr>\n",
       "    <tr>\n",
       "      <th>2</th>\n",
       "      <td>unknown</td>\n",
       "      <td>All residents asked to 'shelter in place' are ...</td>\n",
       "      <td>1</td>\n",
       "    </tr>\n",
       "    <tr>\n",
       "      <th>3</th>\n",
       "      <td>unknown</td>\n",
       "      <td>13,000 people receive #wildfires evacuation or...</td>\n",
       "      <td>1</td>\n",
       "    </tr>\n",
       "    <tr>\n",
       "      <th>4</th>\n",
       "      <td>unknown</td>\n",
       "      <td>Just got sent this photo from Ruby #Alaska as ...</td>\n",
       "      <td>1</td>\n",
       "    </tr>\n",
       "  </tbody>\n",
       "</table>\n",
       "</div>"
      ],
      "text/plain": [
       "   keyword                                               text  target\n",
       "0  unknown  Our Deeds are the Reason of this #earthquake M...       1\n",
       "1  unknown             Forest fire near La Ronge Sask. Canada       1\n",
       "2  unknown  All residents asked to 'shelter in place' are ...       1\n",
       "3  unknown  13,000 people receive #wildfires evacuation or...       1\n",
       "4  unknown  Just got sent this photo from Ruby #Alaska as ...       1"
      ]
     },
     "execution_count": 21,
     "metadata": {},
     "output_type": "execute_result"
    }
   ],
   "source": [
    "db_train = train_df.copy()\n",
    "db_test = test_df.copy()\n",
    "\n",
    "# We apply the same basic preprocessing steps as before for LogReg:\n",
    "# Preprocessing the training data\n",
    "db_train = db_train.drop_duplicates(subset='text')\n",
    "db_train = db_train.drop(['id', 'location'], axis=1)\n",
    "db_train['keyword'] = db_train['keyword'].fillna('unknown')\n",
    "\n",
    "# Preprocessing the test data\n",
    "db_test = db_test.drop(['id', 'location'], axis=1)\n",
    "db_test['keyword'] = db_test['keyword'].fillna('unknown')\n",
    "\n",
    "db_train.head()"
   ]
  },
  {
   "cell_type": "code",
   "execution_count": 22,
   "id": "603d407e",
   "metadata": {
    "execution": {
     "iopub.execute_input": "2025-04-28T08:49:59.840434Z",
     "iopub.status.busy": "2025-04-28T08:49:59.840217Z",
     "iopub.status.idle": "2025-04-28T08:49:59.854558Z",
     "shell.execute_reply": "2025-04-28T08:49:59.854102Z"
    },
    "papermill": {
     "duration": 0.025271,
     "end_time": "2025-04-28T08:49:59.855629",
     "exception": false,
     "start_time": "2025-04-28T08:49:59.830358",
     "status": "completed"
    },
    "tags": []
   },
   "outputs": [],
   "source": [
    "# Decode URL-encoded keywords\n",
    "db_train['keyword'] = db_train['keyword'].apply(lambda x: unquote(x.replace('+', ' ')))\n",
    "db_test['keyword'] = db_test['keyword'].apply(lambda x: unquote(x.replace('+', ' ')))\n",
    "\n",
    "# Combine 'keyword' and 'cleaned_text' again into a single 'final_text' column\n",
    "db_train['final_text'] = db_train['keyword'] + ' ' + db_train['text']\n",
    "db_test['final_text'] = db_test['keyword'] + ' ' + db_test['text']"
   ]
  },
  {
   "cell_type": "code",
   "execution_count": 23,
   "id": "11c04f13",
   "metadata": {
    "execution": {
     "iopub.execute_input": "2025-04-28T08:49:59.876174Z",
     "iopub.status.busy": "2025-04-28T08:49:59.875527Z",
     "iopub.status.idle": "2025-04-28T08:49:59.880606Z",
     "shell.execute_reply": "2025-04-28T08:49:59.879896Z"
    },
    "papermill": {
     "duration": 0.016177,
     "end_time": "2025-04-28T08:49:59.881666",
     "exception": false,
     "start_time": "2025-04-28T08:49:59.865489",
     "status": "completed"
    },
    "tags": []
   },
   "outputs": [],
   "source": [
    "db_train = db_train.drop(['keyword', 'text'], axis=1)\n",
    "db_test = db_test.drop(['keyword', 'text'], axis=1)"
   ]
  },
  {
   "cell_type": "code",
   "execution_count": 24,
   "id": "ab94cc24",
   "metadata": {
    "execution": {
     "iopub.execute_input": "2025-04-28T08:49:59.901001Z",
     "iopub.status.busy": "2025-04-28T08:49:59.900802Z",
     "iopub.status.idle": "2025-04-28T08:49:59.907179Z",
     "shell.execute_reply": "2025-04-28T08:49:59.906499Z"
    },
    "papermill": {
     "duration": 0.017299,
     "end_time": "2025-04-28T08:49:59.908276",
     "exception": false,
     "start_time": "2025-04-28T08:49:59.890977",
     "status": "completed"
    },
    "tags": []
   },
   "outputs": [
    {
     "data": {
      "text/html": [
       "<div>\n",
       "<style scoped>\n",
       "    .dataframe tbody tr th:only-of-type {\n",
       "        vertical-align: middle;\n",
       "    }\n",
       "\n",
       "    .dataframe tbody tr th {\n",
       "        vertical-align: top;\n",
       "    }\n",
       "\n",
       "    .dataframe thead th {\n",
       "        text-align: right;\n",
       "    }\n",
       "</style>\n",
       "<table border=\"1\" class=\"dataframe\">\n",
       "  <thead>\n",
       "    <tr style=\"text-align: right;\">\n",
       "      <th></th>\n",
       "      <th>target</th>\n",
       "      <th>final_text</th>\n",
       "    </tr>\n",
       "  </thead>\n",
       "  <tbody>\n",
       "    <tr>\n",
       "      <th>0</th>\n",
       "      <td>1</td>\n",
       "      <td>unknown Our Deeds are the Reason of this #eart...</td>\n",
       "    </tr>\n",
       "    <tr>\n",
       "      <th>1</th>\n",
       "      <td>1</td>\n",
       "      <td>unknown Forest fire near La Ronge Sask. Canada</td>\n",
       "    </tr>\n",
       "    <tr>\n",
       "      <th>2</th>\n",
       "      <td>1</td>\n",
       "      <td>unknown All residents asked to 'shelter in pla...</td>\n",
       "    </tr>\n",
       "    <tr>\n",
       "      <th>3</th>\n",
       "      <td>1</td>\n",
       "      <td>unknown 13,000 people receive #wildfires evacu...</td>\n",
       "    </tr>\n",
       "    <tr>\n",
       "      <th>4</th>\n",
       "      <td>1</td>\n",
       "      <td>unknown Just got sent this photo from Ruby #Al...</td>\n",
       "    </tr>\n",
       "  </tbody>\n",
       "</table>\n",
       "</div>"
      ],
      "text/plain": [
       "   target                                         final_text\n",
       "0       1  unknown Our Deeds are the Reason of this #eart...\n",
       "1       1     unknown Forest fire near La Ronge Sask. Canada\n",
       "2       1  unknown All residents asked to 'shelter in pla...\n",
       "3       1  unknown 13,000 people receive #wildfires evacu...\n",
       "4       1  unknown Just got sent this photo from Ruby #Al..."
      ]
     },
     "execution_count": 24,
     "metadata": {},
     "output_type": "execute_result"
    }
   ],
   "source": [
    "db_train.head()"
   ]
  },
  {
   "cell_type": "code",
   "execution_count": 25,
   "id": "da22601c",
   "metadata": {
    "execution": {
     "iopub.execute_input": "2025-04-28T08:49:59.928546Z",
     "iopub.status.busy": "2025-04-28T08:49:59.928337Z",
     "iopub.status.idle": "2025-04-28T08:49:59.933980Z",
     "shell.execute_reply": "2025-04-28T08:49:59.933309Z"
    },
    "papermill": {
     "duration": 0.017271,
     "end_time": "2025-04-28T08:49:59.935023",
     "exception": false,
     "start_time": "2025-04-28T08:49:59.917752",
     "status": "completed"
    },
    "tags": []
   },
   "outputs": [
    {
     "data": {
      "text/html": [
       "<div>\n",
       "<style scoped>\n",
       "    .dataframe tbody tr th:only-of-type {\n",
       "        vertical-align: middle;\n",
       "    }\n",
       "\n",
       "    .dataframe tbody tr th {\n",
       "        vertical-align: top;\n",
       "    }\n",
       "\n",
       "    .dataframe thead th {\n",
       "        text-align: right;\n",
       "    }\n",
       "</style>\n",
       "<table border=\"1\" class=\"dataframe\">\n",
       "  <thead>\n",
       "    <tr style=\"text-align: right;\">\n",
       "      <th></th>\n",
       "      <th>final_text</th>\n",
       "    </tr>\n",
       "  </thead>\n",
       "  <tbody>\n",
       "    <tr>\n",
       "      <th>0</th>\n",
       "      <td>unknown Just happened a terrible car crash</td>\n",
       "    </tr>\n",
       "    <tr>\n",
       "      <th>1</th>\n",
       "      <td>unknown Heard about #earthquake is different c...</td>\n",
       "    </tr>\n",
       "    <tr>\n",
       "      <th>2</th>\n",
       "      <td>unknown there is a forest fire at spot pond, g...</td>\n",
       "    </tr>\n",
       "    <tr>\n",
       "      <th>3</th>\n",
       "      <td>unknown Apocalypse lighting. #Spokane #wildfires</td>\n",
       "    </tr>\n",
       "    <tr>\n",
       "      <th>4</th>\n",
       "      <td>unknown Typhoon Soudelor kills 28 in China and...</td>\n",
       "    </tr>\n",
       "  </tbody>\n",
       "</table>\n",
       "</div>"
      ],
      "text/plain": [
       "                                          final_text\n",
       "0         unknown Just happened a terrible car crash\n",
       "1  unknown Heard about #earthquake is different c...\n",
       "2  unknown there is a forest fire at spot pond, g...\n",
       "3   unknown Apocalypse lighting. #Spokane #wildfires\n",
       "4  unknown Typhoon Soudelor kills 28 in China and..."
      ]
     },
     "execution_count": 25,
     "metadata": {},
     "output_type": "execute_result"
    }
   ],
   "source": [
    "db_test.head()"
   ]
  },
  {
   "cell_type": "code",
   "execution_count": 26,
   "id": "22a40138",
   "metadata": {
    "execution": {
     "iopub.execute_input": "2025-04-28T08:49:59.954812Z",
     "iopub.status.busy": "2025-04-28T08:49:59.954612Z",
     "iopub.status.idle": "2025-04-28T08:49:59.962095Z",
     "shell.execute_reply": "2025-04-28T08:49:59.961409Z"
    },
    "papermill": {
     "duration": 0.018574,
     "end_time": "2025-04-28T08:49:59.963155",
     "exception": false,
     "start_time": "2025-04-28T08:49:59.944581",
     "status": "completed"
    },
    "tags": []
   },
   "outputs": [],
   "source": [
    "X_db = db_train['final_text']\n",
    "y_db = db_train['target']\n",
    "\n",
    "X_train, X_val, y_train, y_val = train_test_split(X_db, y_db, stratify=y_db, test_size=0.2, random_state=42)\n",
    "\n",
    "X_test = db_test['final_text']"
   ]
  },
  {
   "cell_type": "markdown",
   "id": "9a722aab",
   "metadata": {
    "papermill": {
     "duration": 0.009368,
     "end_time": "2025-04-28T08:49:59.981934",
     "exception": false,
     "start_time": "2025-04-28T08:49:59.972566",
     "status": "completed"
    },
    "tags": []
   },
   "source": [
    "## Analyzing Token Lengths\n",
    "\n",
    "Before training the DistilBERT model, it's important to determine an appropriate `sequence_length`.\n"
   ]
  },
  {
   "cell_type": "code",
   "execution_count": 27,
   "id": "d59da585",
   "metadata": {
    "execution": {
     "iopub.execute_input": "2025-04-28T08:50:00.001676Z",
     "iopub.status.busy": "2025-04-28T08:50:00.001468Z",
     "iopub.status.idle": "2025-04-28T08:50:05.072946Z",
     "shell.execute_reply": "2025-04-28T08:50:05.072070Z"
    },
    "papermill": {
     "duration": 5.083003,
     "end_time": "2025-04-28T08:50:05.074475",
     "exception": false,
     "start_time": "2025-04-28T08:49:59.991472",
     "status": "completed"
    },
    "tags": []
   },
   "outputs": [
    {
     "data": {
      "application/vnd.jupyter.widget-view+json": {
       "model_id": "1e2d4109ce9147659e7429c6fdeed7f4",
       "version_major": 2,
       "version_minor": 0
      },
      "text/plain": [
       "tokenizer_config.json:   0%|          | 0.00/48.0 [00:00<?, ?B/s]"
      ]
     },
     "metadata": {},
     "output_type": "display_data"
    },
    {
     "data": {
      "application/vnd.jupyter.widget-view+json": {
       "model_id": "aeb568c65ee64304b78e0fd211bd8a02",
       "version_major": 2,
       "version_minor": 0
      },
      "text/plain": [
       "config.json:   0%|          | 0.00/483 [00:00<?, ?B/s]"
      ]
     },
     "metadata": {},
     "output_type": "display_data"
    },
    {
     "data": {
      "application/vnd.jupyter.widget-view+json": {
       "model_id": "d5d9d3ad386c4b399de8c2d887304f9d",
       "version_major": 2,
       "version_minor": 0
      },
      "text/plain": [
       "vocab.txt:   0%|          | 0.00/232k [00:00<?, ?B/s]"
      ]
     },
     "metadata": {},
     "output_type": "display_data"
    },
    {
     "data": {
      "application/vnd.jupyter.widget-view+json": {
       "model_id": "93577757a8d34da3b9b2561f92fd6514",
       "version_major": 2,
       "version_minor": 0
      },
      "text/plain": [
       "tokenizer.json:   0%|          | 0.00/466k [00:00<?, ?B/s]"
      ]
     },
     "metadata": {},
     "output_type": "display_data"
    },
    {
     "name": "stdout",
     "output_type": "stream",
     "text": [
      "Mean length: 34.662534986005596\n",
      "Max length: 85\n",
      "95% cover: 54.0\n"
     ]
    }
   ],
   "source": [
    "# Import Hugging Face tokenizer\n",
    "from transformers import AutoTokenizer\n",
    "# Load the tokenizer corresponding to DistilBERT\n",
    "tokenizer = AutoTokenizer.from_pretrained(\"distilbert-base-uncased\")\n",
    "# Calculate token lengths for all samples\n",
    "token_lens = [len(tokenizer(text)['input_ids']) for text in X_db]\n",
    "\n",
    "print(\"Mean length:\", np.mean(token_lens))\n",
    "print(\"Max length:\", np.max(token_lens))\n",
    "print(\"95% cover:\", np.percentile(token_lens, 95))"
   ]
  },
  {
   "cell_type": "markdown",
   "id": "76166b44",
   "metadata": {
    "papermill": {
     "duration": 0.011571,
     "end_time": "2025-04-28T08:50:05.097928",
     "exception": false,
     "start_time": "2025-04-28T08:50:05.086357",
     "status": "completed"
    },
    "tags": []
   },
   "source": [
    "So we can safely use `128 length` or even `55 length` to cover 95% token lenghts and increase our training speed"
   ]
  },
  {
   "cell_type": "markdown",
   "id": "28861e63",
   "metadata": {
    "papermill": {
     "duration": 0.009834,
     "end_time": "2025-04-28T08:50:05.118405",
     "exception": false,
     "start_time": "2025-04-28T08:50:05.108571",
     "status": "completed"
    },
    "tags": []
   },
   "source": [
    "## Load a DistilBERT model from Keras NLP\n",
    "\n",
    "We use the `distil_bert_base_en_uncased` preset to initialize both the preprocessor and the model.\n",
    "\n",
    "Key settings:\n",
    "- `sequence_length=128` to match the token length distribution\n",
    "- `num_classes=2` for binary classification (disaster vs non-disaster)\n",
    "- Preprocessor automatically handles tokenization, padding, and truncation\n"
   ]
  },
  {
   "cell_type": "code",
   "execution_count": 28,
   "id": "34203877",
   "metadata": {
    "execution": {
     "iopub.execute_input": "2025-04-28T08:50:05.139485Z",
     "iopub.status.busy": "2025-04-28T08:50:05.139258Z",
     "iopub.status.idle": "2025-04-28T08:50:14.350960Z",
     "shell.execute_reply": "2025-04-28T08:50:14.350259Z"
    },
    "papermill": {
     "duration": 9.223448,
     "end_time": "2025-04-28T08:50:14.352007",
     "exception": false,
     "start_time": "2025-04-28T08:50:05.128559",
     "status": "completed"
    },
    "tags": []
   },
   "outputs": [
    {
     "name": "stderr",
     "output_type": "stream",
     "text": [
      "I0000 00:00:1745830207.122300      19 gpu_device.cc:2022] Created device /job:localhost/replica:0/task:0/device:GPU:0 with 15513 MB memory:  -> device: 0, name: Tesla P100-PCIE-16GB, pci bus id: 0000:00:04.0, compute capability: 6.0\n"
     ]
    },
    {
     "data": {
      "text/html": [
       "<pre style=\"white-space:pre;overflow-x:auto;line-height:normal;font-family:Menlo,'DejaVu Sans Mono',consolas,'Courier New',monospace\"><span style=\"font-weight: bold\">Preprocessor: \"tweet_preprocessor\"</span>\n",
       "</pre>\n"
      ],
      "text/plain": [
       "\u001b[1mPreprocessor: \"tweet_preprocessor\"\u001b[0m\n"
      ]
     },
     "metadata": {},
     "output_type": "display_data"
    },
    {
     "data": {
      "text/html": [
       "<pre style=\"white-space:pre;overflow-x:auto;line-height:normal;font-family:Menlo,'DejaVu Sans Mono',consolas,'Courier New',monospace\">┏━━━━━━━━━━━━━━━━━━━━━━━━━━━━━━━━━━━━━━━━━━━━━━━━━━━━━━━━━━━━━━━┳━━━━━━━━━━━━━━━━━━━━━━━━━━━━━━━━━━━━━━━━━━┓\n",
       "┃<span style=\"font-weight: bold\"> Layer (type)                                                  </span>┃<span style=\"font-weight: bold\">                                   Config </span>┃\n",
       "┡━━━━━━━━━━━━━━━━━━━━━━━━━━━━━━━━━━━━━━━━━━━━━━━━━━━━━━━━━━━━━━━╇━━━━━━━━━━━━━━━━━━━━━━━━━━━━━━━━━━━━━━━━━━┩\n",
       "│ distil_bert_tokenizer (<span style=\"color: #0087ff; text-decoration-color: #0087ff\">DistilBertTokenizer</span>)                   │                       Vocab size: <span style=\"color: #00af00; text-decoration-color: #00af00\">30,522</span> │\n",
       "└───────────────────────────────────────────────────────────────┴──────────────────────────────────────────┘\n",
       "</pre>\n"
      ],
      "text/plain": [
       "┏━━━━━━━━━━━━━━━━━━━━━━━━━━━━━━━━━━━━━━━━━━━━━━━━━━━━━━━━━━━━━━━┳━━━━━━━━━━━━━━━━━━━━━━━━━━━━━━━━━━━━━━━━━━┓\n",
       "┃\u001b[1m \u001b[0m\u001b[1mLayer (type)                                                 \u001b[0m\u001b[1m \u001b[0m┃\u001b[1m \u001b[0m\u001b[1m                                  Config\u001b[0m\u001b[1m \u001b[0m┃\n",
       "┡━━━━━━━━━━━━━━━━━━━━━━━━━━━━━━━━━━━━━━━━━━━━━━━━━━━━━━━━━━━━━━━╇━━━━━━━━━━━━━━━━━━━━━━━━━━━━━━━━━━━━━━━━━━┩\n",
       "│ distil_bert_tokenizer (\u001b[38;5;33mDistilBertTokenizer\u001b[0m)                   │                       Vocab size: \u001b[38;5;34m30,522\u001b[0m │\n",
       "└───────────────────────────────────────────────────────────────┴──────────────────────────────────────────┘\n"
      ]
     },
     "metadata": {},
     "output_type": "display_data"
    },
    {
     "data": {
      "text/html": [
       "<pre style=\"white-space:pre;overflow-x:auto;line-height:normal;font-family:Menlo,'DejaVu Sans Mono',consolas,'Courier New',monospace\"><span style=\"font-weight: bold\">Model: \"distil_bert_text_classifier\"</span>\n",
       "</pre>\n"
      ],
      "text/plain": [
       "\u001b[1mModel: \"distil_bert_text_classifier\"\u001b[0m\n"
      ]
     },
     "metadata": {},
     "output_type": "display_data"
    },
    {
     "data": {
      "text/html": [
       "<pre style=\"white-space:pre;overflow-x:auto;line-height:normal;font-family:Menlo,'DejaVu Sans Mono',consolas,'Courier New',monospace\">┏━━━━━━━━━━━━━━━━━━━━━━━━━━━━━━━┳━━━━━━━━━━━━━━━━━━━━━━━━━━━┳━━━━━━━━━━━━━━━━━┳━━━━━━━━━━━━━━━━━━━━━━━━━━━━┓\n",
       "┃<span style=\"font-weight: bold\"> Layer (type)                  </span>┃<span style=\"font-weight: bold\"> Output Shape              </span>┃<span style=\"font-weight: bold\">         Param # </span>┃<span style=\"font-weight: bold\"> Connected to               </span>┃\n",
       "┡━━━━━━━━━━━━━━━━━━━━━━━━━━━━━━━╇━━━━━━━━━━━━━━━━━━━━━━━━━━━╇━━━━━━━━━━━━━━━━━╇━━━━━━━━━━━━━━━━━━━━━━━━━━━━┩\n",
       "│ padding_mask (<span style=\"color: #0087ff; text-decoration-color: #0087ff\">InputLayer</span>)     │ (<span style=\"color: #00d7ff; text-decoration-color: #00d7ff\">None</span>, <span style=\"color: #00d7ff; text-decoration-color: #00d7ff\">None</span>)              │               <span style=\"color: #00af00; text-decoration-color: #00af00\">0</span> │ -                          │\n",
       "├───────────────────────────────┼───────────────────────────┼─────────────────┼────────────────────────────┤\n",
       "│ token_ids (<span style=\"color: #0087ff; text-decoration-color: #0087ff\">InputLayer</span>)        │ (<span style=\"color: #00d7ff; text-decoration-color: #00d7ff\">None</span>, <span style=\"color: #00d7ff; text-decoration-color: #00d7ff\">None</span>)              │               <span style=\"color: #00af00; text-decoration-color: #00af00\">0</span> │ -                          │\n",
       "├───────────────────────────────┼───────────────────────────┼─────────────────┼────────────────────────────┤\n",
       "│ distil_bert_backbone          │ (<span style=\"color: #00d7ff; text-decoration-color: #00d7ff\">None</span>, <span style=\"color: #00d7ff; text-decoration-color: #00d7ff\">None</span>, <span style=\"color: #00af00; text-decoration-color: #00af00\">768</span>)         │      <span style=\"color: #00af00; text-decoration-color: #00af00\">66,362,880</span> │ padding_mask[<span style=\"color: #00af00; text-decoration-color: #00af00\">0</span>][<span style=\"color: #00af00; text-decoration-color: #00af00\">0</span>],        │\n",
       "│ (<span style=\"color: #0087ff; text-decoration-color: #0087ff\">DistilBertBackbone</span>)          │                           │                 │ token_ids[<span style=\"color: #00af00; text-decoration-color: #00af00\">0</span>][<span style=\"color: #00af00; text-decoration-color: #00af00\">0</span>]            │\n",
       "├───────────────────────────────┼───────────────────────────┼─────────────────┼────────────────────────────┤\n",
       "│ get_item (<span style=\"color: #0087ff; text-decoration-color: #0087ff\">GetItem</span>)            │ (<span style=\"color: #00d7ff; text-decoration-color: #00d7ff\">None</span>, <span style=\"color: #00af00; text-decoration-color: #00af00\">768</span>)               │               <span style=\"color: #00af00; text-decoration-color: #00af00\">0</span> │ distil_bert_backbone[<span style=\"color: #00af00; text-decoration-color: #00af00\">0</span>][<span style=\"color: #00af00; text-decoration-color: #00af00\">0</span>] │\n",
       "├───────────────────────────────┼───────────────────────────┼─────────────────┼────────────────────────────┤\n",
       "│ pooled_dense (<span style=\"color: #0087ff; text-decoration-color: #0087ff\">Dense</span>)          │ (<span style=\"color: #00d7ff; text-decoration-color: #00d7ff\">None</span>, <span style=\"color: #00af00; text-decoration-color: #00af00\">768</span>)               │         <span style=\"color: #00af00; text-decoration-color: #00af00\">590,592</span> │ get_item[<span style=\"color: #00af00; text-decoration-color: #00af00\">0</span>][<span style=\"color: #00af00; text-decoration-color: #00af00\">0</span>]             │\n",
       "├───────────────────────────────┼───────────────────────────┼─────────────────┼────────────────────────────┤\n",
       "│ output_dropout (<span style=\"color: #0087ff; text-decoration-color: #0087ff\">Dropout</span>)      │ (<span style=\"color: #00d7ff; text-decoration-color: #00d7ff\">None</span>, <span style=\"color: #00af00; text-decoration-color: #00af00\">768</span>)               │               <span style=\"color: #00af00; text-decoration-color: #00af00\">0</span> │ pooled_dense[<span style=\"color: #00af00; text-decoration-color: #00af00\">0</span>][<span style=\"color: #00af00; text-decoration-color: #00af00\">0</span>]         │\n",
       "├───────────────────────────────┼───────────────────────────┼─────────────────┼────────────────────────────┤\n",
       "│ logits (<span style=\"color: #0087ff; text-decoration-color: #0087ff\">Dense</span>)                │ (<span style=\"color: #00d7ff; text-decoration-color: #00d7ff\">None</span>, <span style=\"color: #00af00; text-decoration-color: #00af00\">2</span>)                 │           <span style=\"color: #00af00; text-decoration-color: #00af00\">1,538</span> │ output_dropout[<span style=\"color: #00af00; text-decoration-color: #00af00\">0</span>][<span style=\"color: #00af00; text-decoration-color: #00af00\">0</span>]       │\n",
       "└───────────────────────────────┴───────────────────────────┴─────────────────┴────────────────────────────┘\n",
       "</pre>\n"
      ],
      "text/plain": [
       "┏━━━━━━━━━━━━━━━━━━━━━━━━━━━━━━━┳━━━━━━━━━━━━━━━━━━━━━━━━━━━┳━━━━━━━━━━━━━━━━━┳━━━━━━━━━━━━━━━━━━━━━━━━━━━━┓\n",
       "┃\u001b[1m \u001b[0m\u001b[1mLayer (type)                 \u001b[0m\u001b[1m \u001b[0m┃\u001b[1m \u001b[0m\u001b[1mOutput Shape             \u001b[0m\u001b[1m \u001b[0m┃\u001b[1m \u001b[0m\u001b[1m        Param #\u001b[0m\u001b[1m \u001b[0m┃\u001b[1m \u001b[0m\u001b[1mConnected to              \u001b[0m\u001b[1m \u001b[0m┃\n",
       "┡━━━━━━━━━━━━━━━━━━━━━━━━━━━━━━━╇━━━━━━━━━━━━━━━━━━━━━━━━━━━╇━━━━━━━━━━━━━━━━━╇━━━━━━━━━━━━━━━━━━━━━━━━━━━━┩\n",
       "│ padding_mask (\u001b[38;5;33mInputLayer\u001b[0m)     │ (\u001b[38;5;45mNone\u001b[0m, \u001b[38;5;45mNone\u001b[0m)              │               \u001b[38;5;34m0\u001b[0m │ -                          │\n",
       "├───────────────────────────────┼───────────────────────────┼─────────────────┼────────────────────────────┤\n",
       "│ token_ids (\u001b[38;5;33mInputLayer\u001b[0m)        │ (\u001b[38;5;45mNone\u001b[0m, \u001b[38;5;45mNone\u001b[0m)              │               \u001b[38;5;34m0\u001b[0m │ -                          │\n",
       "├───────────────────────────────┼───────────────────────────┼─────────────────┼────────────────────────────┤\n",
       "│ distil_bert_backbone          │ (\u001b[38;5;45mNone\u001b[0m, \u001b[38;5;45mNone\u001b[0m, \u001b[38;5;34m768\u001b[0m)         │      \u001b[38;5;34m66,362,880\u001b[0m │ padding_mask[\u001b[38;5;34m0\u001b[0m][\u001b[38;5;34m0\u001b[0m],        │\n",
       "│ (\u001b[38;5;33mDistilBertBackbone\u001b[0m)          │                           │                 │ token_ids[\u001b[38;5;34m0\u001b[0m][\u001b[38;5;34m0\u001b[0m]            │\n",
       "├───────────────────────────────┼───────────────────────────┼─────────────────┼────────────────────────────┤\n",
       "│ get_item (\u001b[38;5;33mGetItem\u001b[0m)            │ (\u001b[38;5;45mNone\u001b[0m, \u001b[38;5;34m768\u001b[0m)               │               \u001b[38;5;34m0\u001b[0m │ distil_bert_backbone[\u001b[38;5;34m0\u001b[0m][\u001b[38;5;34m0\u001b[0m] │\n",
       "├───────────────────────────────┼───────────────────────────┼─────────────────┼────────────────────────────┤\n",
       "│ pooled_dense (\u001b[38;5;33mDense\u001b[0m)          │ (\u001b[38;5;45mNone\u001b[0m, \u001b[38;5;34m768\u001b[0m)               │         \u001b[38;5;34m590,592\u001b[0m │ get_item[\u001b[38;5;34m0\u001b[0m][\u001b[38;5;34m0\u001b[0m]             │\n",
       "├───────────────────────────────┼───────────────────────────┼─────────────────┼────────────────────────────┤\n",
       "│ output_dropout (\u001b[38;5;33mDropout\u001b[0m)      │ (\u001b[38;5;45mNone\u001b[0m, \u001b[38;5;34m768\u001b[0m)               │               \u001b[38;5;34m0\u001b[0m │ pooled_dense[\u001b[38;5;34m0\u001b[0m][\u001b[38;5;34m0\u001b[0m]         │\n",
       "├───────────────────────────────┼───────────────────────────┼─────────────────┼────────────────────────────┤\n",
       "│ logits (\u001b[38;5;33mDense\u001b[0m)                │ (\u001b[38;5;45mNone\u001b[0m, \u001b[38;5;34m2\u001b[0m)                 │           \u001b[38;5;34m1,538\u001b[0m │ output_dropout[\u001b[38;5;34m0\u001b[0m][\u001b[38;5;34m0\u001b[0m]       │\n",
       "└───────────────────────────────┴───────────────────────────┴─────────────────┴────────────────────────────┘\n"
      ]
     },
     "metadata": {},
     "output_type": "display_data"
    },
    {
     "data": {
      "text/html": [
       "<pre style=\"white-space:pre;overflow-x:auto;line-height:normal;font-family:Menlo,'DejaVu Sans Mono',consolas,'Courier New',monospace\"><span style=\"font-weight: bold\"> Total params: </span><span style=\"color: #00af00; text-decoration-color: #00af00\">66,955,010</span> (255.41 MB)\n",
       "</pre>\n"
      ],
      "text/plain": [
       "\u001b[1m Total params: \u001b[0m\u001b[38;5;34m66,955,010\u001b[0m (255.41 MB)\n"
      ]
     },
     "metadata": {},
     "output_type": "display_data"
    },
    {
     "data": {
      "text/html": [
       "<pre style=\"white-space:pre;overflow-x:auto;line-height:normal;font-family:Menlo,'DejaVu Sans Mono',consolas,'Courier New',monospace\"><span style=\"font-weight: bold\"> Trainable params: </span><span style=\"color: #00af00; text-decoration-color: #00af00\">66,955,010</span> (255.41 MB)\n",
       "</pre>\n"
      ],
      "text/plain": [
       "\u001b[1m Trainable params: \u001b[0m\u001b[38;5;34m66,955,010\u001b[0m (255.41 MB)\n"
      ]
     },
     "metadata": {},
     "output_type": "display_data"
    },
    {
     "data": {
      "text/html": [
       "<pre style=\"white-space:pre;overflow-x:auto;line-height:normal;font-family:Menlo,'DejaVu Sans Mono',consolas,'Courier New',monospace\"><span style=\"font-weight: bold\"> Non-trainable params: </span><span style=\"color: #00af00; text-decoration-color: #00af00\">0</span> (0.00 B)\n",
       "</pre>\n"
      ],
      "text/plain": [
       "\u001b[1m Non-trainable params: \u001b[0m\u001b[38;5;34m0\u001b[0m (0.00 B)\n"
      ]
     },
     "metadata": {},
     "output_type": "display_data"
    }
   ],
   "source": [
    "# Set the DistilBERT preset\n",
    "preset = \"distil_bert_base_en_uncased\"\n",
    "\n",
    "# Initialize the preprocessor\n",
    "preprocessor = keras_nlp.models.DistilBertPreprocessor.from_preset(\n",
    "    preset,\n",
    "    sequence_length=128,   \n",
    "    name=\"tweet_preprocessor\"\n",
    ")\n",
    "\n",
    "# Initialize the DistilBERT classifier\n",
    "classifier = keras_nlp.models.DistilBertClassifier.from_preset(\n",
    "    preset,\n",
    "    preprocessor=preprocessor,\n",
    "    num_classes=2  # Binary classification\n",
    ")\n",
    "\n",
    "classifier.summary()"
   ]
  },
  {
   "cell_type": "markdown",
   "id": "98211ad8",
   "metadata": {
    "papermill": {
     "duration": 0.010604,
     "end_time": "2025-04-28T08:50:14.374201",
     "exception": false,
     "start_time": "2025-04-28T08:50:14.363597",
     "status": "completed"
    },
    "tags": []
   },
   "source": [
    "## Model Compilation and Training"
   ]
  },
  {
   "cell_type": "code",
   "execution_count": 29,
   "id": "25881b63",
   "metadata": {
    "execution": {
     "iopub.execute_input": "2025-04-28T08:50:14.397294Z",
     "iopub.status.busy": "2025-04-28T08:50:14.397025Z",
     "iopub.status.idle": "2025-04-28T08:52:40.501674Z",
     "shell.execute_reply": "2025-04-28T08:52:40.501101Z"
    },
    "papermill": {
     "duration": 146.117842,
     "end_time": "2025-04-28T08:52:40.502880",
     "exception": false,
     "start_time": "2025-04-28T08:50:14.385038",
     "status": "completed"
    },
    "tags": []
   },
   "outputs": [
    {
     "name": "stdout",
     "output_type": "stream",
     "text": [
      "Epoch 1/2\n"
     ]
    },
    {
     "name": "stderr",
     "output_type": "stream",
     "text": [
      "WARNING: All log messages before absl::InitializeLog() is called are written to STDERR\n",
      "I0000 00:00:1745830240.779931      77 service.cc:148] XLA service 0x7f5ccc00e680 initialized for platform CUDA (this does not guarantee that XLA will be used). Devices:\n",
      "I0000 00:00:1745830240.780649      77 service.cc:156]   StreamExecutor device (0): Tesla P100-PCIE-16GB, Compute Capability 6.0\n",
      "I0000 00:00:1745830243.085661      77 cuda_dnn.cc:529] Loaded cuDNN version 90300\n",
      "I0000 00:00:1745830257.449899      77 device_compiler.h:188] Compiled cluster using XLA!  This line is logged at most once for the lifetime of the process.\n"
     ]
    },
    {
     "name": "stdout",
     "output_type": "stream",
     "text": [
      "\u001b[1m188/188\u001b[0m \u001b[32m━━━━━━━━━━━━━━━━━━━━\u001b[0m\u001b[37m\u001b[0m \u001b[1m103s\u001b[0m 328ms/step - accuracy: 0.7004 - loss: 0.5750 - val_accuracy: 0.8381 - val_loss: 0.3986\n",
      "Epoch 2/2\n",
      "\u001b[1m188/188\u001b[0m \u001b[32m━━━━━━━━━━━━━━━━━━━━\u001b[0m\u001b[37m\u001b[0m \u001b[1m41s\u001b[0m 219ms/step - accuracy: 0.8344 - loss: 0.3939 - val_accuracy: 0.8448 - val_loss: 0.3870\n"
     ]
    }
   ],
   "source": [
    "# Compile\n",
    "classifier.compile(\n",
    "    loss=losses.SparseCategoricalCrossentropy(from_logits=True),\n",
    "    optimizer=optimizers.Adam(learning_rate=1e-5),\n",
    "    metrics=[\"accuracy\"]\n",
    ")\n",
    "\n",
    "# Train the model\n",
    "history = classifier.fit(\n",
    "    X_train,\n",
    "    y_train,\n",
    "    validation_data=(X_val, y_val),\n",
    "    epochs=2,\n",
    "    batch_size=32\n",
    ")"
   ]
  },
  {
   "cell_type": "code",
   "execution_count": 30,
   "id": "ad102854",
   "metadata": {
    "execution": {
     "iopub.execute_input": "2025-04-28T08:52:40.557735Z",
     "iopub.status.busy": "2025-04-28T08:52:40.557496Z",
     "iopub.status.idle": "2025-04-28T08:53:01.128500Z",
     "shell.execute_reply": "2025-04-28T08:53:01.127806Z"
    },
    "papermill": {
     "duration": 20.599459,
     "end_time": "2025-04-28T08:53:01.129901",
     "exception": false,
     "start_time": "2025-04-28T08:52:40.530442",
     "status": "completed"
    },
    "tags": []
   },
   "outputs": [
    {
     "name": "stdout",
     "output_type": "stream",
     "text": [
      "\u001b[1m188/188\u001b[0m \u001b[32m━━━━━━━━━━━━━━━━━━━━\u001b[0m\u001b[37m\u001b[0m \u001b[1m14s\u001b[0m 61ms/step\n",
      "\u001b[1m47/47\u001b[0m \u001b[32m━━━━━━━━━━━━━━━━━━━━\u001b[0m\u001b[37m\u001b[0m \u001b[1m3s\u001b[0m 68ms/step\n"
     ]
    }
   ],
   "source": [
    "y_train_pred_probs = classifier.predict(X_train)\n",
    "y_val_pred_probs = classifier.predict(X_val)"
   ]
  },
  {
   "cell_type": "code",
   "execution_count": 31,
   "id": "0fef97b6",
   "metadata": {
    "execution": {
     "iopub.execute_input": "2025-04-28T08:53:01.204330Z",
     "iopub.status.busy": "2025-04-28T08:53:01.204093Z",
     "iopub.status.idle": "2025-04-28T08:53:01.208139Z",
     "shell.execute_reply": "2025-04-28T08:53:01.207569Z"
    },
    "papermill": {
     "duration": 0.04234,
     "end_time": "2025-04-28T08:53:01.209214",
     "exception": false,
     "start_time": "2025-04-28T08:53:01.166874",
     "status": "completed"
    },
    "tags": []
   },
   "outputs": [],
   "source": [
    "y_train_pred = np.argmax(y_train_pred_probs, axis=1)\n",
    "y_val_pred = np.argmax(y_val_pred_probs, axis=1)"
   ]
  },
  {
   "cell_type": "code",
   "execution_count": 32,
   "id": "7dd74df6",
   "metadata": {
    "execution": {
     "iopub.execute_input": "2025-04-28T08:53:01.278566Z",
     "iopub.status.busy": "2025-04-28T08:53:01.278340Z",
     "iopub.status.idle": "2025-04-28T08:53:01.290522Z",
     "shell.execute_reply": "2025-04-28T08:53:01.289813Z"
    },
    "papermill": {
     "duration": 0.047846,
     "end_time": "2025-04-28T08:53:01.291578",
     "exception": false,
     "start_time": "2025-04-28T08:53:01.243732",
     "status": "completed"
    },
    "tags": []
   },
   "outputs": [
    {
     "name": "stdout",
     "output_type": "stream",
     "text": [
      "Train classification report:\n",
      "              precision    recall  f1-score   support\n",
      "\n",
      "           0       0.88      0.92      0.90      3444\n",
      "           1       0.89      0.83      0.86      2558\n",
      "\n",
      "    accuracy                           0.88      6002\n",
      "   macro avg       0.88      0.87      0.88      6002\n",
      "weighted avg       0.88      0.88      0.88      6002\n",
      "\n"
     ]
    }
   ],
   "source": [
    "print(\"Train classification report:\")\n",
    "print(classification_report(y_train, y_train_pred))"
   ]
  },
  {
   "cell_type": "code",
   "execution_count": 33,
   "id": "6151d5e2",
   "metadata": {
    "execution": {
     "iopub.execute_input": "2025-04-28T08:53:01.361529Z",
     "iopub.status.busy": "2025-04-28T08:53:01.361308Z",
     "iopub.status.idle": "2025-04-28T08:53:01.371190Z",
     "shell.execute_reply": "2025-04-28T08:53:01.370403Z"
    },
    "papermill": {
     "duration": 0.045888,
     "end_time": "2025-04-28T08:53:01.372279",
     "exception": false,
     "start_time": "2025-04-28T08:53:01.326391",
     "status": "completed"
    },
    "tags": []
   },
   "outputs": [
    {
     "name": "stdout",
     "output_type": "stream",
     "text": [
      "Validation classification report:\n",
      "              precision    recall  f1-score   support\n",
      "\n",
      "           0       0.85      0.89      0.87       861\n",
      "           1       0.84      0.78      0.81       640\n",
      "\n",
      "    accuracy                           0.84      1501\n",
      "   macro avg       0.84      0.84      0.84      1501\n",
      "weighted avg       0.84      0.84      0.84      1501\n",
      "\n"
     ]
    }
   ],
   "source": [
    "print(\"Validation classification report:\")\n",
    "print(classification_report(y_val, y_val_pred))"
   ]
  },
  {
   "cell_type": "code",
   "execution_count": 34,
   "id": "afed6adb",
   "metadata": {
    "execution": {
     "iopub.execute_input": "2025-04-28T08:53:01.443979Z",
     "iopub.status.busy": "2025-04-28T08:53:01.443760Z",
     "iopub.status.idle": "2025-04-28T08:53:01.625235Z",
     "shell.execute_reply": "2025-04-28T08:53:01.624575Z"
    },
    "papermill": {
     "duration": 0.217777,
     "end_time": "2025-04-28T08:53:01.626459",
     "exception": false,
     "start_time": "2025-04-28T08:53:01.408682",
     "status": "completed"
    },
    "tags": []
   },
   "outputs": [
    {
     "data": {
      "image/png": "[encoded data removed]",
      "text/plain": [
       "<Figure size 600x400 with 2 Axes>"
      ]
     },
     "metadata": {},
     "output_type": "display_data"
    }
   ],
   "source": [
    "plot_confusion_matrix(y_train, y_train_pred, \"Confusion Matrix — Train\")"
   ]
  },
  {
   "cell_type": "code",
   "execution_count": 35,
   "id": "6c3b053d",
   "metadata": {
    "execution": {
     "iopub.execute_input": "2025-04-28T08:53:01.698763Z",
     "iopub.status.busy": "2025-04-28T08:53:01.698551Z",
     "iopub.status.idle": "2025-04-28T08:53:01.875990Z",
     "shell.execute_reply": "2025-04-28T08:53:01.875251Z"
    },
    "papermill": {
     "duration": 0.21482,
     "end_time": "2025-04-28T08:53:01.877092",
     "exception": false,
     "start_time": "2025-04-28T08:53:01.662272",
     "status": "completed"
    },
    "tags": []
   },
   "outputs": [
    {
     "data": {
      "image/png": "[encoded data removed]",
      "text/plain": [
       "<Figure size 600x400 with 2 Axes>"
      ]
     },
     "metadata": {},
     "output_type": "display_data"
    }
   ],
   "source": [
    "plot_confusion_matrix(y_val, y_val_pred, \"Confusion Matrix — Validation\")"
   ]
  },
  {
   "cell_type": "markdown",
   "id": "a1728eca",
   "metadata": {
    "papermill": {
     "duration": 0.034948,
     "end_time": "2025-04-28T08:53:01.948168",
     "exception": false,
     "start_time": "2025-04-28T08:53:01.913220",
     "status": "completed"
    },
    "tags": []
   },
   "source": [
    "# Summary: DistilBERT Performance\n",
    "\n",
    "The DistilBERT model demonstrated strong performance in disaster tweet classification:\n",
    "\n",
    "- **Training F1-score**: 88%\n",
    "- **Validation F1-score**: 85%\n",
    "\n",
    "Now, let's use the trained model to make predictions on the test set and prepare our submission.\n"
   ]
  },
  {
   "cell_type": "markdown",
   "id": "575d8414",
   "metadata": {
    "papermill": {
     "duration": 0.034614,
     "end_time": "2025-04-28T08:53:02.017607",
     "exception": false,
     "start_time": "2025-04-28T08:53:01.982993",
     "status": "completed"
    },
    "tags": []
   },
   "source": [
    "# Generate the submission file"
   ]
  },
  {
   "cell_type": "code",
   "execution_count": 36,
   "id": "0b9c2fa0",
   "metadata": {
    "execution": {
     "iopub.execute_input": "2025-04-28T08:53:02.090811Z",
     "iopub.status.busy": "2025-04-28T08:53:02.090548Z",
     "iopub.status.idle": "2025-04-28T08:53:02.107551Z",
     "shell.execute_reply": "2025-04-28T08:53:02.106922Z"
    },
    "papermill": {
     "duration": 0.054525,
     "end_time": "2025-04-28T08:53:02.108536",
     "exception": false,
     "start_time": "2025-04-28T08:53:02.054011",
     "status": "completed"
    },
    "tags": []
   },
   "outputs": [
    {
     "data": {
      "text/html": [
       "<div>\n",
       "<style scoped>\n",
       "    .dataframe tbody tr th:only-of-type {\n",
       "        vertical-align: middle;\n",
       "    }\n",
       "\n",
       "    .dataframe tbody tr th {\n",
       "        vertical-align: top;\n",
       "    }\n",
       "\n",
       "    .dataframe thead th {\n",
       "        text-align: right;\n",
       "    }\n",
       "</style>\n",
       "<table border=\"1\" class=\"dataframe\">\n",
       "  <thead>\n",
       "    <tr style=\"text-align: right;\">\n",
       "      <th></th>\n",
       "      <th>id</th>\n",
       "      <th>target</th>\n",
       "    </tr>\n",
       "  </thead>\n",
       "  <tbody>\n",
       "    <tr>\n",
       "      <th>0</th>\n",
       "      <td>0</td>\n",
       "      <td>0</td>\n",
       "    </tr>\n",
       "    <tr>\n",
       "      <th>1</th>\n",
       "      <td>2</td>\n",
       "      <td>0</td>\n",
       "    </tr>\n",
       "    <tr>\n",
       "      <th>2</th>\n",
       "      <td>3</td>\n",
       "      <td>0</td>\n",
       "    </tr>\n",
       "    <tr>\n",
       "      <th>3</th>\n",
       "      <td>9</td>\n",
       "      <td>0</td>\n",
       "    </tr>\n",
       "    <tr>\n",
       "      <th>4</th>\n",
       "      <td>11</td>\n",
       "      <td>0</td>\n",
       "    </tr>\n",
       "  </tbody>\n",
       "</table>\n",
       "</div>"
      ],
      "text/plain": [
       "   id  target\n",
       "0   0       0\n",
       "1   2       0\n",
       "2   3       0\n",
       "3   9       0\n",
       "4  11       0"
      ]
     },
     "execution_count": 36,
     "metadata": {},
     "output_type": "execute_result"
    }
   ],
   "source": [
    "sample_submission = pd.read_csv(\"/kaggle/input/nlp-getting-started/sample_submission.csv\")\n",
    "sample_submission.head()"
   ]
  },
  {
   "cell_type": "code",
   "execution_count": 37,
   "id": "78ca21cb",
   "metadata": {
    "execution": {
     "iopub.execute_input": "2025-04-28T08:53:02.179959Z",
     "iopub.status.busy": "2025-04-28T08:53:02.179764Z",
     "iopub.status.idle": "2025-04-28T08:53:10.129325Z",
     "shell.execute_reply": "2025-04-28T08:53:10.128731Z"
    },
    "papermill": {
     "duration": 7.986369,
     "end_time": "2025-04-28T08:53:10.130542",
     "exception": false,
     "start_time": "2025-04-28T08:53:02.144173",
     "status": "completed"
    },
    "tags": []
   },
   "outputs": [
    {
     "name": "stdout",
     "output_type": "stream",
     "text": [
      "\u001b[1m102/102\u001b[0m \u001b[32m━━━━━━━━━━━━━━━━━━━━\u001b[0m\u001b[37m\u001b[0m \u001b[1m7s\u001b[0m 62ms/step\n"
     ]
    }
   ],
   "source": [
    "sample_submission[\"target\"] = np.argmax(classifier.predict(X_test), axis=1)"
   ]
  },
  {
   "cell_type": "code",
   "execution_count": 38,
   "id": "f546c35b",
   "metadata": {
    "execution": {
     "iopub.execute_input": "2025-04-28T08:53:10.211950Z",
     "iopub.status.busy": "2025-04-28T08:53:10.211710Z",
     "iopub.status.idle": "2025-04-28T08:53:10.223376Z",
     "shell.execute_reply": "2025-04-28T08:53:10.222800Z"
    },
    "papermill": {
     "duration": 0.052866,
     "end_time": "2025-04-28T08:53:10.224464",
     "exception": false,
     "start_time": "2025-04-28T08:53:10.171598",
     "status": "completed"
    },
    "tags": []
   },
   "outputs": [
    {
     "data": {
      "text/html": [
       "<div>\n",
       "<style scoped>\n",
       "    .dataframe tbody tr th:only-of-type {\n",
       "        vertical-align: middle;\n",
       "    }\n",
       "\n",
       "    .dataframe tbody tr th {\n",
       "        vertical-align: top;\n",
       "    }\n",
       "\n",
       "    .dataframe thead th {\n",
       "        text-align: right;\n",
       "    }\n",
       "</style>\n",
       "<table border=\"1\" class=\"dataframe\">\n",
       "  <thead>\n",
       "    <tr style=\"text-align: right;\">\n",
       "      <th></th>\n",
       "      <th>id</th>\n",
       "      <th>target</th>\n",
       "    </tr>\n",
       "  </thead>\n",
       "  <tbody>\n",
       "    <tr>\n",
       "      <th>count</th>\n",
       "      <td>3263.000000</td>\n",
       "      <td>3263.000000</td>\n",
       "    </tr>\n",
       "    <tr>\n",
       "      <th>mean</th>\n",
       "      <td>5427.152927</td>\n",
       "      <td>0.401471</td>\n",
       "    </tr>\n",
       "    <tr>\n",
       "      <th>std</th>\n",
       "      <td>3146.427221</td>\n",
       "      <td>0.490271</td>\n",
       "    </tr>\n",
       "    <tr>\n",
       "      <th>min</th>\n",
       "      <td>0.000000</td>\n",
       "      <td>0.000000</td>\n",
       "    </tr>\n",
       "    <tr>\n",
       "      <th>25%</th>\n",
       "      <td>2683.000000</td>\n",
       "      <td>0.000000</td>\n",
       "    </tr>\n",
       "    <tr>\n",
       "      <th>50%</th>\n",
       "      <td>5500.000000</td>\n",
       "      <td>0.000000</td>\n",
       "    </tr>\n",
       "    <tr>\n",
       "      <th>75%</th>\n",
       "      <td>8176.000000</td>\n",
       "      <td>1.000000</td>\n",
       "    </tr>\n",
       "    <tr>\n",
       "      <th>max</th>\n",
       "      <td>10875.000000</td>\n",
       "      <td>1.000000</td>\n",
       "    </tr>\n",
       "  </tbody>\n",
       "</table>\n",
       "</div>"
      ],
      "text/plain": [
       "                 id       target\n",
       "count   3263.000000  3263.000000\n",
       "mean    5427.152927     0.401471\n",
       "std     3146.427221     0.490271\n",
       "min        0.000000     0.000000\n",
       "25%     2683.000000     0.000000\n",
       "50%     5500.000000     0.000000\n",
       "75%     8176.000000     1.000000\n",
       "max    10875.000000     1.000000"
      ]
     },
     "execution_count": 38,
     "metadata": {},
     "output_type": "execute_result"
    }
   ],
   "source": [
    "sample_submission.describe()"
   ]
  },
  {
   "cell_type": "code",
   "execution_count": 39,
   "id": "e31f63e4",
   "metadata": {
    "execution": {
     "iopub.execute_input": "2025-04-28T08:53:10.303221Z",
     "iopub.status.busy": "2025-04-28T08:53:10.302815Z",
     "iopub.status.idle": "2025-04-28T08:53:10.312436Z",
     "shell.execute_reply": "2025-04-28T08:53:10.311939Z"
    },
    "papermill": {
     "duration": 0.049971,
     "end_time": "2025-04-28T08:53:10.313538",
     "exception": false,
     "start_time": "2025-04-28T08:53:10.263567",
     "status": "completed"
    },
    "tags": []
   },
   "outputs": [],
   "source": [
    "sample_submission.to_csv(\"submission.csv\", index=False)"
   ]
  },
  {
   "cell_type": "code",
   "execution_count": null,
   "id": "88009571",
   "metadata": {
    "papermill": {
     "duration": 0.038512,
     "end_time": "2025-04-28T08:53:10.391263",
     "exception": false,
     "start_time": "2025-04-28T08:53:10.352751",
     "status": "completed"
    },
    "tags": []
   },
   "outputs": [],
   "source": []
  }
 ],
 "metadata": {
  "kaggle": {
   "accelerator": "gpu",
   "dataSources": [
    {
     "databundleVersionId": 869809,
     "sourceId": 17777,
     "sourceType": "competition"
    },
    {
     "databundleVersionId": 10555558,
     "modelInstanceId": 4689,
     "sourceId": 205028,
     "sourceType": "modelInstanceVersion"
    }
   ],
   "dockerImageVersionId": 31011,
   "isGpuEnabled": true,
   "isInternetEnabled": true,
   "language": "python",
   "sourceType": "notebook"
  },
  "kernelspec": {
   "display_name": "Python 3",
   "language": "python",
   "name": "python3"
  },
  "language_info": {
   "codemirror_mode": {
    "name": "ipython",
    "version": 3
   },
   "file_extension": ".py",
   "mimetype": "text/x-python",
   "name": "python",
   "nbconvert_exporter": "python",
   "pygments_lexer": "ipython3",
   "version": "3.11.11"
  },
  "papermill": {
   "default_parameters": {},
   "duration": 256.447683,
   "end_time": "2025-04-28T08:53:14.202921",
   "environment_variables": {},
   "exception": null,
   "input_path": "__notebook__.ipynb",
   "output_path": "__notebook__.ipynb",
   "parameters": {},
   "start_time": "2025-04-28T08:48:57.755238",
   "version": "2.6.0"
  },
  "widgets": {
   "application/vnd.jupyter.widget-state+json": {
    "state": {
     "024b67bdf8064dd9903c6a7e3750fabb": {
      "model_module": "@jupyter-widgets/controls",
      "model_module_version": "2.0.0",
      "model_name": "HTMLModel",
      "state": {
       "_dom_classes": [],
       "_model_module": "@jupyter-widgets/controls",
       "_model_module_version": "2.0.0",
       "_model_name": "HTMLModel",
       "_view_count": null,
       "_view_module": "@jupyter-widgets/controls",
       "_view_module_version": "2.0.0",
       "_view_name": "HTMLView",
       "description": "",
       "description_allow_html": false,
       "layout": "IPY_MODEL_9df6630980654ee2910ea793d5791c35",
       "placeholder": "​",
       "style": "IPY_MODEL_602c57cc40f14e30a1bf66b2023eec32",
       "tabbable": null,
       "tooltip": null,
       "value": "tokenizer.json: 100%"
      }
     },
     "1e2d4109ce9147659e7429c6fdeed7f4": {
      "model_module": "@jupyter-widgets/controls",
      "model_module_version": "2.0.0",
      "model_name": "HBoxModel",
      "state": {
       "_dom_classes": [],
       "_model_module": "@jupyter-widgets/controls",
       "_model_module_version": "2.0.0",
       "_model_name": "HBoxModel",
       "_view_count": null,
       "_view_module": "@jupyter-widgets/controls",
       "_view_module_version": "2.0.0",
       "_view_name": "HBoxView",
       "box_style": "",
       "children": [
        "IPY_MODEL_416a8cb1386443ab944e49569c373262",
        "IPY_MODEL_503587a4571f4aeeb3fc763e697bc9f9",
        "IPY_MODEL_feb0a651e58b4b81a0111b9787aa301e"
       ],
       "layout": "IPY_MODEL_db2495f83e1e4c388117f009c90008ff",
       "tabbable": null,
       "tooltip": null
      }
     },
     "1ed06229dc3c463e852fdae476377e8c": {
      "model_module": "@jupyter-widgets/base",
      "model_module_version": "2.0.0",
      "model_name": "LayoutModel",
      "state": {
       "_model_module": "@jupyter-widgets/base",
       "_model_module_version": "2.0.0",
       "_model_name": "LayoutModel",
       "_view_count": null,
       "_view_module": "@jupyter-widgets/base",
       "_view_module_version": "2.0.0",
       "_view_name": "LayoutView",
       "align_content": null,
       "align_items": null,
       "align_self": null,
       "border_bottom": null,
       "border_left": null,
       "border_right": null,
       "border_top": null,
       "bottom": null,
       "display": null,
       "flex": null,
       "flex_flow": null,
       "grid_area": null,
       "grid_auto_columns": null,
       "grid_auto_flow": null,
       "grid_auto_rows": null,
       "grid_column": null,
       "grid_gap": null,
       "grid_row": null,
       "grid_template_areas": null,
       "grid_template_columns": null,
       "grid_template_rows": null,
       "height": null,
       "justify_content": null,
       "justify_items": null,
       "left": null,
       "margin": null,
       "max_height": null,
       "max_width": null,
       "min_height": null,
       "min_width": null,
       "object_fit": null,
       "object_position": null,
       "order": null,
       "overflow": null,
       "padding": null,
       "right": null,
       "top": null,
       "visibility": null,
       "width": null
      }
     },
     "21ca8becd49346ada0fc52346675a65b": {
      "model_module": "@jupyter-widgets/controls",
      "model_module_version": "2.0.0",
      "model_name": "ProgressStyleModel",
      "state": {
       "_model_module": "@jupyter-widgets/controls",
       "_model_module_version": "2.0.0",
       "_model_name": "ProgressStyleModel",
       "_view_count": null,
       "_view_module": "@jupyter-widgets/base",
       "_view_module_version": "2.0.0",
       "_view_name": "StyleView",
       "bar_color": null,
       "description_width": ""
      }
     },
     "2c068a8807ed42e2a7cf6ecb206395db": {
      "model_module": "@jupyter-widgets/controls",
      "model_module_version": "2.0.0",
      "model_name": "HTMLModel",
      "state": {
       "_dom_classes": [],
       "_model_module": "@jupyter-widgets/controls",
       "_model_module_version": "2.0.0",
       "_model_name": "HTMLModel",
       "_view_count": null,
       "_view_module": "@jupyter-widgets/controls",
       "_view_module_version": "2.0.0",
       "_view_name": "HTMLView",
       "description": "",
       "description_allow_html": false,
       "layout": "IPY_MODEL_732c748636674c5abeec3ac73ebcfef7",
       "placeholder": "​",
       "style": "IPY_MODEL_8e3e01bff31849259a58513e86287179",
       "tabbable": null,
       "tooltip": null,
       "value": " 232k/232k [00:00&lt;00:00, 1.41MB/s]"
      }
     },
     "322d73e3f63f4a37bcba0b24bea5caae": {
      "model_module": "@jupyter-widgets/base",
      "model_module_version": "2.0.0",
      "model_name": "LayoutModel",
      "state": {
       "_model_module": "@jupyter-widgets/base",
       "_model_module_version": "2.0.0",
       "_model_name": "LayoutModel",
       "_view_count": null,
       "_view_module": "@jupyter-widgets/base",
       "_view_module_version": "2.0.0",
       "_view_name": "LayoutView",
       "align_content": null,
       "align_items": null,
       "align_self": null,
       "border_bottom": null,
       "border_left": null,
       "border_right": null,
       "border_top": null,
       "bottom": null,
       "display": null,
       "flex": null,
       "flex_flow": null,
       "grid_area": null,
       "grid_auto_columns": null,
       "grid_auto_flow": null,
       "grid_auto_rows": null,
       "grid_column": null,
       "grid_gap": null,
       "grid_row": null,
       "grid_template_areas": null,
       "grid_template_columns": null,
       "grid_template_rows": null,
       "height": null,
       "justify_content": null,
       "justify_items": null,
       "left": null,
       "margin": null,
       "max_height": null,
       "max_width": null,
       "min_height": null,
       "min_width": null,
       "object_fit": null,
       "object_position": null,
       "order": null,
       "overflow": null,
       "padding": null,
       "right": null,
       "top": null,
       "visibility": null,
       "width": null
      }
     },
     "34945cb27ab74412ab0b893cf3ee4734": {
      "model_module": "@jupyter-widgets/controls",
      "model_module_version": "2.0.0",
      "model_name": "HTMLModel",
      "state": {
       "_dom_classes": [],
       "_model_module": "@jupyter-widgets/controls",
       "_model_module_version": "2.0.0",
       "_model_name": "HTMLModel",
       "_view_count": null,
       "_view_module": "@jupyter-widgets/controls",
       "_view_module_version": "2.0.0",
       "_view_name": "HTMLView",
       "description": "",
       "description_allow_html": false,
       "layout": "IPY_MODEL_322d73e3f63f4a37bcba0b24bea5caae",
       "placeholder": "​",
       "style": "IPY_MODEL_f808b7ed95664cfbbc28e4f74327cb46",
       "tabbable": null,
       "tooltip": null,
       "value": "config.json: 100%"
      }
     },
     "3db997ba517245e49016271f55f56a15": {
      "model_module": "@jupyter-widgets/controls",
      "model_module_version": "2.0.0",
      "model_name": "HTMLModel",
      "state": {
       "_dom_classes": [],
       "_model_module": "@jupyter-widgets/controls",
       "_model_module_version": "2.0.0",
       "_model_name": "HTMLModel",
       "_view_count": null,
       "_view_module": "@jupyter-widgets/controls",
       "_view_module_version": "2.0.0",
       "_view_name": "HTMLView",
       "description": "",
       "description_allow_html": false,
       "layout": "IPY_MODEL_e9cd4c114c074145bc407dd0d321f39d",
       "placeholder": "​",
       "style": "IPY_MODEL_590d824f5fd24de48b2ffe34fdc7d956",
       "tabbable": null,
       "tooltip": null,
       "value": " 483/483 [00:00&lt;00:00, 64.8kB/s]"
      }
     },
     "416a8cb1386443ab944e49569c373262": {
      "model_module": "@jupyter-widgets/controls",
      "model_module_version": "2.0.0",
      "model_name": "HTMLModel",
      "state": {
       "_dom_classes": [],
       "_model_module": "@jupyter-widgets/controls",
       "_model_module_version": "2.0.0",
       "_model_name": "HTMLModel",
       "_view_count": null,
       "_view_module": "@jupyter-widgets/controls",
       "_view_module_version": "2.0.0",
       "_view_name": "HTMLView",
       "description": "",
       "description_allow_html": false,
       "layout": "IPY_MODEL_5dd614c75bee4c7e90bde0bbe9d756ea",
       "placeholder": "​",
       "style": "IPY_MODEL_d84854523de34099a4f17e1d0cb37a34",
       "tabbable": null,
       "tooltip": null,
       "value": "tokenizer_config.json: 100%"
      }
     },
     "503587a4571f4aeeb3fc763e697bc9f9": {
      "model_module": "@jupyter-widgets/controls",
      "model_module_version": "2.0.0",
      "model_name": "FloatProgressModel",
      "state": {
       "_dom_classes": [],
       "_model_module": "@jupyter-widgets/controls",
       "_model_module_version": "2.0.0",
       "_model_name": "FloatProgressModel",
       "_view_count": null,
       "_view_module": "@jupyter-widgets/controls",
       "_view_module_version": "2.0.0",
       "_view_name": "ProgressView",
       "bar_style": "success",
       "description": "",
       "description_allow_html": false,
       "layout": "IPY_MODEL_f2f2285a2ff04ea392d41a63aa92a5ff",
       "max": 48.0,
       "min": 0.0,
       "orientation": "horizontal",
       "style": "IPY_MODEL_21ca8becd49346ada0fc52346675a65b",
       "tabbable": null,
       "tooltip": null,
       "value": 48.0
      }
     },
     "590d824f5fd24de48b2ffe34fdc7d956": {
      "model_module": "@jupyter-widgets/controls",
      "model_module_version": "2.0.0",
      "model_name": "HTMLStyleModel",
      "state": {
       "_model_module": "@jupyter-widgets/controls",
       "_model_module_version": "2.0.0",
       "_model_name": "HTMLStyleModel",
       "_view_count": null,
       "_view_module": "@jupyter-widgets/base",
       "_view_module_version": "2.0.0",
       "_view_name": "StyleView",
       "background": null,
       "description_width": "",
       "font_size": null,
       "text_color": null
      }
     },
     "5b4ec2ede0c440a89ba698cf8cef17fe": {
      "model_module": "@jupyter-widgets/base",
      "model_module_version": "2.0.0",
      "model_name": "LayoutModel",
      "state": {
       "_model_module": "@jupyter-widgets/base",
       "_model_module_version": "2.0.0",
       "_model_name": "LayoutModel",
       "_view_count": null,
       "_view_module": "@jupyter-widgets/base",
       "_view_module_version": "2.0.0",
       "_view_name": "LayoutView",
       "align_content": null,
       "align_items": null,
       "align_self": null,
       "border_bottom": null,
       "border_left": null,
       "border_right": null,
       "border_top": null,
       "bottom": null,
       "display": null,
       "flex": null,
       "flex_flow": null,
       "grid_area": null,
       "grid_auto_columns": null,
       "grid_auto_flow": null,
       "grid_auto_rows": null,
       "grid_column": null,
       "grid_gap": null,
       "grid_row": null,
       "grid_template_areas": null,
       "grid_template_columns": null,
       "grid_template_rows": null,
       "height": null,
       "justify_content": null,
       "justify_items": null,
       "left": null,
       "margin": null,
       "max_height": null,
       "max_width": null,
       "min_height": null,
       "min_width": null,
       "object_fit": null,
       "object_position": null,
       "order": null,
       "overflow": null,
       "padding": null,
       "right": null,
       "top": null,
       "visibility": null,
       "width": null
      }
     },
     "5dd614c75bee4c7e90bde0bbe9d756ea": {
      "model_module": "@jupyter-widgets/base",
      "model_module_version": "2.0.0",
      "model_name": "LayoutModel",
      "state": {
       "_model_module": "@jupyter-widgets/base",
       "_model_module_version": "2.0.0",
       "_model_name": "LayoutModel",
       "_view_count": null,
       "_view_module": "@jupyter-widgets/base",
       "_view_module_version": "2.0.0",
       "_view_name": "LayoutView",
       "align_content": null,
       "align_items": null,
       "align_self": null,
       "border_bottom": null,
       "border_left": null,
       "border_right": null,
       "border_top": null,
       "bottom": null,
       "display": null,
       "flex": null,
       "flex_flow": null,
       "grid_area": null,
       "grid_auto_columns": null,
       "grid_auto_flow": null,
       "grid_auto_rows": null,
       "grid_column": null,
       "grid_gap": null,
       "grid_row": null,
       "grid_template_areas": null,
       "grid_template_columns": null,
       "grid_template_rows": null,
       "height": null,
       "justify_content": null,
       "justify_items": null,
       "left": null,
       "margin": null,
       "max_height": null,
       "max_width": null,
       "min_height": null,
       "min_width": null,
       "object_fit": null,
       "object_position": null,
       "order": null,
       "overflow": null,
       "padding": null,
       "right": null,
       "top": null,
       "visibility": null,
       "width": null
      }
     },
     "5f04c1a5762a443296a092ba0ab003ee": {
      "model_module": "@jupyter-widgets/base",
      "model_module_version": "2.0.0",
      "model_name": "LayoutModel",
      "state": {
       "_model_module": "@jupyter-widgets/base",
       "_model_module_version": "2.0.0",
       "_model_name": "LayoutModel",
       "_view_count": null,
       "_view_module": "@jupyter-widgets/base",
       "_view_module_version": "2.0.0",
       "_view_name": "LayoutView",
       "align_content": null,
       "align_items": null,
       "align_self": null,
       "border_bottom": null,
       "border_left": null,
       "border_right": null,
       "border_top": null,
       "bottom": null,
       "display": null,
       "flex": null,
       "flex_flow": null,
       "grid_area": null,
       "grid_auto_columns": null,
       "grid_auto_flow": null,
       "grid_auto_rows": null,
       "grid_column": null,
       "grid_gap": null,
       "grid_row": null,
       "grid_template_areas": null,
       "grid_template_columns": null,
       "grid_template_rows": null,
       "height": null,
       "justify_content": null,
       "justify_items": null,
       "left": null,
       "margin": null,
       "max_height": null,
       "max_width": null,
       "min_height": null,
       "min_width": null,
       "object_fit": null,
       "object_position": null,
       "order": null,
       "overflow": null,
       "padding": null,
       "right": null,
       "top": null,
       "visibility": null,
       "width": null
      }
     },
     "602c57cc40f14e30a1bf66b2023eec32": {
      "model_module": "@jupyter-widgets/controls",
      "model_module_version": "2.0.0",
      "model_name": "HTMLStyleModel",
      "state": {
       "_model_module": "@jupyter-widgets/controls",
       "_model_module_version": "2.0.0",
       "_model_name": "HTMLStyleModel",
       "_view_count": null,
       "_view_module": "@jupyter-widgets/base",
       "_view_module_version": "2.0.0",
       "_view_name": "StyleView",
       "background": null,
       "description_width": "",
       "font_size": null,
       "text_color": null
      }
     },
     "6493b28c66af4f13a3c3669688f041fd": {
      "model_module": "@jupyter-widgets/controls",
      "model_module_version": "2.0.0",
      "model_name": "FloatProgressModel",
      "state": {
       "_dom_classes": [],
       "_model_module": "@jupyter-widgets/controls",
       "_model_module_version": "2.0.0",
       "_model_name": "FloatProgressModel",
       "_view_count": null,
       "_view_module": "@jupyter-widgets/controls",
       "_view_module_version": "2.0.0",
       "_view_name": "ProgressView",
       "bar_style": "success",
       "description": "",
       "description_allow_html": false,
       "layout": "IPY_MODEL_bab1b790c9294b69aa42855b7a2a9450",
       "max": 483.0,
       "min": 0.0,
       "orientation": "horizontal",
       "style": "IPY_MODEL_e8a8a716cb354e5f891f1f64d9ee3534",
       "tabbable": null,
       "tooltip": null,
       "value": 483.0
      }
     },
     "65fb546759d24d2fa3f0c684ede3835e": {
      "model_module": "@jupyter-widgets/controls",
      "model_module_version": "2.0.0",
      "model_name": "HTMLModel",
      "state": {
       "_dom_classes": [],
       "_model_module": "@jupyter-widgets/controls",
       "_model_module_version": "2.0.0",
       "_model_name": "HTMLModel",
       "_view_count": null,
       "_view_module": "@jupyter-widgets/controls",
       "_view_module_version": "2.0.0",
       "_view_name": "HTMLView",
       "description": "",
       "description_allow_html": false,
       "layout": "IPY_MODEL_8f258066f0344830accc25b4769daf69",
       "placeholder": "​",
       "style": "IPY_MODEL_927aff8fdb6345bd88208d2b93036b97",
       "tabbable": null,
       "tooltip": null,
       "value": "vocab.txt: 100%"
      }
     },
     "6825fdc79a024f84beabb20692966695": {
      "model_module": "@jupyter-widgets/controls",
      "model_module_version": "2.0.0",
      "model_name": "HTMLModel",
      "state": {
       "_dom_classes": [],
       "_model_module": "@jupyter-widgets/controls",
       "_model_module_version": "2.0.0",
       "_model_name": "HTMLModel",
       "_view_count": null,
       "_view_module": "@jupyter-widgets/controls",
       "_view_module_version": "2.0.0",
       "_view_name": "HTMLView",
       "description": "",
       "description_allow_html": false,
       "layout": "IPY_MODEL_5f04c1a5762a443296a092ba0ab003ee",
       "placeholder": "​",
       "style": "IPY_MODEL_75a237feadf34632960a55b00634b336",
       "tabbable": null,
       "tooltip": null,
       "value": " 466k/466k [00:00&lt;00:00, 5.61MB/s]"
      }
     },
     "6887f25baaff44248ed2895ad294dc99": {
      "model_module": "@jupyter-widgets/base",
      "model_module_version": "2.0.0",
      "model_name": "LayoutModel",
      "state": {
       "_model_module": "@jupyter-widgets/base",
       "_model_module_version": "2.0.0",
       "_model_name": "LayoutModel",
       "_view_count": null,
       "_view_module": "@jupyter-widgets/base",
       "_view_module_version": "2.0.0",
       "_view_name": "LayoutView",
       "align_content": null,
       "align_items": null,
       "align_self": null,
       "border_bottom": null,
       "border_left": null,
       "border_right": null,
       "border_top": null,
       "bottom": null,
       "display": null,
       "flex": null,
       "flex_flow": null,
       "grid_area": null,
       "grid_auto_columns": null,
       "grid_auto_flow": null,
       "grid_auto_rows": null,
       "grid_column": null,
       "grid_gap": null,
       "grid_row": null,
       "grid_template_areas": null,
       "grid_template_columns": null,
       "grid_template_rows": null,
       "height": null,
       "justify_content": null,
       "justify_items": null,
       "left": null,
       "margin": null,
       "max_height": null,
       "max_width": null,
       "min_height": null,
       "min_width": null,
       "object_fit": null,
       "object_position": null,
       "order": null,
       "overflow": null,
       "padding": null,
       "right": null,
       "top": null,
       "visibility": null,
       "width": null
      }
     },
     "7085d3593b1f47cc8ddfa56bceaef65b": {
      "model_module": "@jupyter-widgets/base",
      "model_module_version": "2.0.0",
      "model_name": "LayoutModel",
      "state": {
       "_model_module": "@jupyter-widgets/base",
       "_model_module_version": "2.0.0",
       "_model_name": "LayoutModel",
       "_view_count": null,
       "_view_module": "@jupyter-widgets/base",
       "_view_module_version": "2.0.0",
       "_view_name": "LayoutView",
       "align_content": null,
       "align_items": null,
       "align_self": null,
       "border_bottom": null,
       "border_left": null,
       "border_right": null,
       "border_top": null,
       "bottom": null,
       "display": null,
       "flex": null,
       "flex_flow": null,
       "grid_area": null,
       "grid_auto_columns": null,
       "grid_auto_flow": null,
       "grid_auto_rows": null,
       "grid_column": null,
       "grid_gap": null,
       "grid_row": null,
       "grid_template_areas": null,
       "grid_template_columns": null,
       "grid_template_rows": null,
       "height": null,
       "justify_content": null,
       "justify_items": null,
       "left": null,
       "margin": null,
       "max_height": null,
       "max_width": null,
       "min_height": null,
       "min_width": null,
       "object_fit": null,
       "object_position": null,
       "order": null,
       "overflow": null,
       "padding": null,
       "right": null,
       "top": null,
       "visibility": null,
       "width": null
      }
     },
     "732c748636674c5abeec3ac73ebcfef7": {
      "model_module": "@jupyter-widgets/base",
      "model_module_version": "2.0.0",
      "model_name": "LayoutModel",
      "state": {
       "_model_module": "@jupyter-widgets/base",
       "_model_module_version": "2.0.0",
       "_model_name": "LayoutModel",
       "_view_count": null,
       "_view_module": "@jupyter-widgets/base",
       "_view_module_version": "2.0.0",
       "_view_name": "LayoutView",
       "align_content": null,
       "align_items": null,
       "align_self": null,
       "border_bottom": null,
       "border_left": null,
       "border_right": null,
       "border_top": null,
       "bottom": null,
       "display": null,
       "flex": null,
       "flex_flow": null,
       "grid_area": null,
       "grid_auto_columns": null,
       "grid_auto_flow": null,
       "grid_auto_rows": null,
       "grid_column": null,
       "grid_gap": null,
       "grid_row": null,
       "grid_template_areas": null,
       "grid_template_columns": null,
       "grid_template_rows": null,
       "height": null,
       "justify_content": null,
       "justify_items": null,
       "left": null,
       "margin": null,
       "max_height": null,
       "max_width": null,
       "min_height": null,
       "min_width": null,
       "object_fit": null,
       "object_position": null,
       "order": null,
       "overflow": null,
       "padding": null,
       "right": null,
       "top": null,
       "visibility": null,
       "width": null
      }
     },
     "75a237feadf34632960a55b00634b336": {
      "model_module": "@jupyter-widgets/controls",
      "model_module_version": "2.0.0",
      "model_name": "HTMLStyleModel",
      "state": {
       "_model_module": "@jupyter-widgets/controls",
       "_model_module_version": "2.0.0",
       "_model_name": "HTMLStyleModel",
       "_view_count": null,
       "_view_module": "@jupyter-widgets/base",
       "_view_module_version": "2.0.0",
       "_view_name": "StyleView",
       "background": null,
       "description_width": "",
       "font_size": null,
       "text_color": null
      }
     },
     "879550f01c78460caba2ddce177b5c86": {
      "model_module": "@jupyter-widgets/controls",
      "model_module_version": "2.0.0",
      "model_name": "FloatProgressModel",
      "state": {
       "_dom_classes": [],
       "_model_module": "@jupyter-widgets/controls",
       "_model_module_version": "2.0.0",
       "_model_name": "FloatProgressModel",
       "_view_count": null,
       "_view_module": "@jupyter-widgets/controls",
       "_view_module_version": "2.0.0",
       "_view_name": "ProgressView",
       "bar_style": "success",
       "description": "",
       "description_allow_html": false,
       "layout": "IPY_MODEL_7085d3593b1f47cc8ddfa56bceaef65b",
       "max": 231508.0,
       "min": 0.0,
       "orientation": "horizontal",
       "style": "IPY_MODEL_addc2da03d454fda97a33801fff7f71d",
       "tabbable": null,
       "tooltip": null,
       "value": 231508.0
      }
     },
     "8e3e01bff31849259a58513e86287179": {
      "model_module": "@jupyter-widgets/controls",
      "model_module_version": "2.0.0",
      "model_name": "HTMLStyleModel",
      "state": {
       "_model_module": "@jupyter-widgets/controls",
       "_model_module_version": "2.0.0",
       "_model_name": "HTMLStyleModel",
       "_view_count": null,
       "_view_module": "@jupyter-widgets/base",
       "_view_module_version": "2.0.0",
       "_view_name": "StyleView",
       "background": null,
       "description_width": "",
       "font_size": null,
       "text_color": null
      }
     },
     "8f258066f0344830accc25b4769daf69": {
      "model_module": "@jupyter-widgets/base",
      "model_module_version": "2.0.0",
      "model_name": "LayoutModel",
      "state": {
       "_model_module": "@jupyter-widgets/base",
       "_model_module_version": "2.0.0",
       "_model_name": "LayoutModel",
       "_view_count": null,
       "_view_module": "@jupyter-widgets/base",
       "_view_module_version": "2.0.0",
       "_view_name": "LayoutView",
       "align_content": null,
       "align_items": null,
       "align_self": null,
       "border_bottom": null,
       "border_left": null,
       "border_right": null,
       "border_top": null,
       "bottom": null,
       "display": null,
       "flex": null,
       "flex_flow": null,
       "grid_area": null,
       "grid_auto_columns": null,
       "grid_auto_flow": null,
       "grid_auto_rows": null,
       "grid_column": null,
       "grid_gap": null,
       "grid_row": null,
       "grid_template_areas": null,
       "grid_template_columns": null,
       "grid_template_rows": null,
       "height": null,
       "justify_content": null,
       "justify_items": null,
       "left": null,
       "margin": null,
       "max_height": null,
       "max_width": null,
       "min_height": null,
       "min_width": null,
       "object_fit": null,
       "object_position": null,
       "order": null,
       "overflow": null,
       "padding": null,
       "right": null,
       "top": null,
       "visibility": null,
       "width": null
      }
     },
     "927aff8fdb6345bd88208d2b93036b97": {
      "model_module": "@jupyter-widgets/controls",
      "model_module_version": "2.0.0",
      "model_name": "HTMLStyleModel",
      "state": {
       "_model_module": "@jupyter-widgets/controls",
       "_model_module_version": "2.0.0",
       "_model_name": "HTMLStyleModel",
       "_view_count": null,
       "_view_module": "@jupyter-widgets/base",
       "_view_module_version": "2.0.0",
       "_view_name": "StyleView",
       "background": null,
       "description_width": "",
       "font_size": null,
       "text_color": null
      }
     },
     "93577757a8d34da3b9b2561f92fd6514": {
      "model_module": "@jupyter-widgets/controls",
      "model_module_version": "2.0.0",
      "model_name": "HBoxModel",
      "state": {
       "_dom_classes": [],
       "_model_module": "@jupyter-widgets/controls",
       "_model_module_version": "2.0.0",
       "_model_name": "HBoxModel",
       "_view_count": null,
       "_view_module": "@jupyter-widgets/controls",
       "_view_module_version": "2.0.0",
       "_view_name": "HBoxView",
       "box_style": "",
       "children": [
        "IPY_MODEL_024b67bdf8064dd9903c6a7e3750fabb",
        "IPY_MODEL_d5334d25619c4b3a87c01fdbe4f2b728",
        "IPY_MODEL_6825fdc79a024f84beabb20692966695"
       ],
       "layout": "IPY_MODEL_5b4ec2ede0c440a89ba698cf8cef17fe",
       "tabbable": null,
       "tooltip": null
      }
     },
     "9df6630980654ee2910ea793d5791c35": {
      "model_module": "@jupyter-widgets/base",
      "model_module_version": "2.0.0",
      "model_name": "LayoutModel",
      "state": {
       "_model_module": "@jupyter-widgets/base",
       "_model_module_version": "2.0.0",
       "_model_name": "LayoutModel",
       "_view_count": null,
       "_view_module": "@jupyter-widgets/base",
       "_view_module_version": "2.0.0",
       "_view_name": "LayoutView",
       "align_content": null,
       "align_items": null,
       "align_self": null,
       "border_bottom": null,
       "border_left": null,
       "border_right": null,
       "border_top": null,
       "bottom": null,
       "display": null,
       "flex": null,
       "flex_flow": null,
       "grid_area": null,
       "grid_auto_columns": null,
       "grid_auto_flow": null,
       "grid_auto_rows": null,
       "grid_column": null,
       "grid_gap": null,
       "grid_row": null,
       "grid_template_areas": null,
       "grid_template_columns": null,
       "grid_template_rows": null,
       "height": null,
       "justify_content": null,
       "justify_items": null,
       "left": null,
       "margin": null,
       "max_height": null,
       "max_width": null,
       "min_height": null,
       "min_width": null,
       "object_fit": null,
       "object_position": null,
       "order": null,
       "overflow": null,
       "padding": null,
       "right": null,
       "top": null,
       "visibility": null,
       "width": null
      }
     },
     "a9a9768395424115b2fe54e46ff37717": {
      "model_module": "@jupyter-widgets/controls",
      "model_module_version": "2.0.0",
      "model_name": "ProgressStyleModel",
      "state": {
       "_model_module": "@jupyter-widgets/controls",
       "_model_module_version": "2.0.0",
       "_model_name": "ProgressStyleModel",
       "_view_count": null,
       "_view_module": "@jupyter-widgets/base",
       "_view_module_version": "2.0.0",
       "_view_name": "StyleView",
       "bar_color": null,
       "description_width": ""
      }
     },
     "aadde64dccdb497089453b3e2b2adcef": {
      "model_module": "@jupyter-widgets/controls",
      "model_module_version": "2.0.0",
      "model_name": "HTMLStyleModel",
      "state": {
       "_model_module": "@jupyter-widgets/controls",
       "_model_module_version": "2.0.0",
       "_model_name": "HTMLStyleModel",
       "_view_count": null,
       "_view_module": "@jupyter-widgets/base",
       "_view_module_version": "2.0.0",
       "_view_name": "StyleView",
       "background": null,
       "description_width": "",
       "font_size": null,
       "text_color": null
      }
     },
     "addc2da03d454fda97a33801fff7f71d": {
      "model_module": "@jupyter-widgets/controls",
      "model_module_version": "2.0.0",
      "model_name": "ProgressStyleModel",
      "state": {
       "_model_module": "@jupyter-widgets/controls",
       "_model_module_version": "2.0.0",
       "_model_name": "ProgressStyleModel",
       "_view_count": null,
       "_view_module": "@jupyter-widgets/base",
       "_view_module_version": "2.0.0",
       "_view_name": "StyleView",
       "bar_color": null,
       "description_width": ""
      }
     },
     "aeb568c65ee64304b78e0fd211bd8a02": {
      "model_module": "@jupyter-widgets/controls",
      "model_module_version": "2.0.0",
      "model_name": "HBoxModel",
      "state": {
       "_dom_classes": [],
       "_model_module": "@jupyter-widgets/controls",
       "_model_module_version": "2.0.0",
       "_model_name": "HBoxModel",
       "_view_count": null,
       "_view_module": "@jupyter-widgets/controls",
       "_view_module_version": "2.0.0",
       "_view_name": "HBoxView",
       "box_style": "",
       "children": [
        "IPY_MODEL_34945cb27ab74412ab0b893cf3ee4734",
        "IPY_MODEL_6493b28c66af4f13a3c3669688f041fd",
        "IPY_MODEL_3db997ba517245e49016271f55f56a15"
       ],
       "layout": "IPY_MODEL_1ed06229dc3c463e852fdae476377e8c",
       "tabbable": null,
       "tooltip": null
      }
     },
     "bab1b790c9294b69aa42855b7a2a9450": {
      "model_module": "@jupyter-widgets/base",
      "model_module_version": "2.0.0",
      "model_name": "LayoutModel",
      "state": {
       "_model_module": "@jupyter-widgets/base",
       "_model_module_version": "2.0.0",
       "_model_name": "LayoutModel",
       "_view_count": null,
       "_view_module": "@jupyter-widgets/base",
       "_view_module_version": "2.0.0",
       "_view_name": "LayoutView",
       "align_content": null,
       "align_items": null,
       "align_self": null,
       "border_bottom": null,
       "border_left": null,
       "border_right": null,
       "border_top": null,
       "bottom": null,
       "display": null,
       "flex": null,
       "flex_flow": null,
       "grid_area": null,
       "grid_auto_columns": null,
       "grid_auto_flow": null,
       "grid_auto_rows": null,
       "grid_column": null,
       "grid_gap": null,
       "grid_row": null,
       "grid_template_areas": null,
       "grid_template_columns": null,
       "grid_template_rows": null,
       "height": null,
       "justify_content": null,
       "justify_items": null,
       "left": null,
       "margin": null,
       "max_height": null,
       "max_width": null,
       "min_height": null,
       "min_width": null,
       "object_fit": null,
       "object_position": null,
       "order": null,
       "overflow": null,
       "padding": null,
       "right": null,
       "top": null,
       "visibility": null,
       "width": null
      }
     },
     "c9680404bc6c4594bb344d64cac91e25": {
      "model_module": "@jupyter-widgets/base",
      "model_module_version": "2.0.0",
      "model_name": "LayoutModel",
      "state": {
       "_model_module": "@jupyter-widgets/base",
       "_model_module_version": "2.0.0",
       "_model_name": "LayoutModel",
       "_view_count": null,
       "_view_module": "@jupyter-widgets/base",
       "_view_module_version": "2.0.0",
       "_view_name": "LayoutView",
       "align_content": null,
       "align_items": null,
       "align_self": null,
       "border_bottom": null,
       "border_left": null,
       "border_right": null,
       "border_top": null,
       "bottom": null,
       "display": null,
       "flex": null,
       "flex_flow": null,
       "grid_area": null,
       "grid_auto_columns": null,
       "grid_auto_flow": null,
       "grid_auto_rows": null,
       "grid_column": null,
       "grid_gap": null,
       "grid_row": null,
       "grid_template_areas": null,
       "grid_template_columns": null,
       "grid_template_rows": null,
       "height": null,
       "justify_content": null,
       "justify_items": null,
       "left": null,
       "margin": null,
       "max_height": null,
       "max_width": null,
       "min_height": null,
       "min_width": null,
       "object_fit": null,
       "object_position": null,
       "order": null,
       "overflow": null,
       "padding": null,
       "right": null,
       "top": null,
       "visibility": null,
       "width": null
      }
     },
     "d5334d25619c4b3a87c01fdbe4f2b728": {
      "model_module": "@jupyter-widgets/controls",
      "model_module_version": "2.0.0",
      "model_name": "FloatProgressModel",
      "state": {
       "_dom_classes": [],
       "_model_module": "@jupyter-widgets/controls",
       "_model_module_version": "2.0.0",
       "_model_name": "FloatProgressModel",
       "_view_count": null,
       "_view_module": "@jupyter-widgets/controls",
       "_view_module_version": "2.0.0",
       "_view_name": "ProgressView",
       "bar_style": "success",
       "description": "",
       "description_allow_html": false,
       "layout": "IPY_MODEL_fca12ab369d245d78867c99bc9386042",
       "max": 466062.0,
       "min": 0.0,
       "orientation": "horizontal",
       "style": "IPY_MODEL_a9a9768395424115b2fe54e46ff37717",
       "tabbable": null,
       "tooltip": null,
       "value": 466062.0
      }
     },
     "d5d9d3ad386c4b399de8c2d887304f9d": {
      "model_module": "@jupyter-widgets/controls",
      "model_module_version": "2.0.0",
      "model_name": "HBoxModel",
      "state": {
       "_dom_classes": [],
       "_model_module": "@jupyter-widgets/controls",
       "_model_module_version": "2.0.0",
       "_model_name": "HBoxModel",
       "_view_count": null,
       "_view_module": "@jupyter-widgets/controls",
       "_view_module_version": "2.0.0",
       "_view_name": "HBoxView",
       "box_style": "",
       "children": [
        "IPY_MODEL_65fb546759d24d2fa3f0c684ede3835e",
        "IPY_MODEL_879550f01c78460caba2ddce177b5c86",
        "IPY_MODEL_2c068a8807ed42e2a7cf6ecb206395db"
       ],
       "layout": "IPY_MODEL_c9680404bc6c4594bb344d64cac91e25",
       "tabbable": null,
       "tooltip": null
      }
     },
     "d84854523de34099a4f17e1d0cb37a34": {
      "model_module": "@jupyter-widgets/controls",
      "model_module_version": "2.0.0",
      "model_name": "HTMLStyleModel",
      "state": {
       "_model_module": "@jupyter-widgets/controls",
       "_model_module_version": "2.0.0",
       "_model_name": "HTMLStyleModel",
       "_view_count": null,
       "_view_module": "@jupyter-widgets/base",
       "_view_module_version": "2.0.0",
       "_view_name": "StyleView",
       "background": null,
       "description_width": "",
       "font_size": null,
       "text_color": null
      }
     },
     "db2495f83e1e4c388117f009c90008ff": {
      "model_module": "@jupyter-widgets/base",
      "model_module_version": "2.0.0",
      "model_name": "LayoutModel",
      "state": {
       "_model_module": "@jupyter-widgets/base",
       "_model_module_version": "2.0.0",
       "_model_name": "LayoutModel",
       "_view_count": null,
       "_view_module": "@jupyter-widgets/base",
       "_view_module_version": "2.0.0",
       "_view_name": "LayoutView",
       "align_content": null,
       "align_items": null,
       "align_self": null,
       "border_bottom": null,
       "border_left": null,
       "border_right": null,
       "border_top": null,
       "bottom": null,
       "display": null,
       "flex": null,
       "flex_flow": null,
       "grid_area": null,
       "grid_auto_columns": null,
       "grid_auto_flow": null,
       "grid_auto_rows": null,
       "grid_column": null,
       "grid_gap": null,
       "grid_row": null,
       "grid_template_areas": null,
       "grid_template_columns": null,
       "grid_template_rows": null,
       "height": null,
       "justify_content": null,
       "justify_items": null,
       "left": null,
       "margin": null,
       "max_height": null,
       "max_width": null,
       "min_height": null,
       "min_width": null,
       "object_fit": null,
       "object_position": null,
       "order": null,
       "overflow": null,
       "padding": null,
       "right": null,
       "top": null,
       "visibility": null,
       "width": null
      }
     },
     "e8a8a716cb354e5f891f1f64d9ee3534": {
      "model_module": "@jupyter-widgets/controls",
      "model_module_version": "2.0.0",
      "model_name": "ProgressStyleModel",
      "state": {
       "_model_module": "@jupyter-widgets/controls",
       "_model_module_version": "2.0.0",
       "_model_name": "ProgressStyleModel",
       "_view_count": null,
       "_view_module": "@jupyter-widgets/base",
       "_view_module_version": "2.0.0",
       "_view_name": "StyleView",
       "bar_color": null,
       "description_width": ""
      }
     },
     "e9cd4c114c074145bc407dd0d321f39d": {
      "model_module": "@jupyter-widgets/base",
      "model_module_version": "2.0.0",
      "model_name": "LayoutModel",
      "state": {
       "_model_module": "@jupyter-widgets/base",
       "_model_module_version": "2.0.0",
       "_model_name": "LayoutModel",
       "_view_count": null,
       "_view_module": "@jupyter-widgets/base",
       "_view_module_version": "2.0.0",
       "_view_name": "LayoutView",
       "align_content": null,
       "align_items": null,
       "align_self": null,
       "border_bottom": null,
       "border_left": null,
       "border_right": null,
       "border_top": null,
       "bottom": null,
       "display": null,
       "flex": null,
       "flex_flow": null,
       "grid_area": null,
       "grid_auto_columns": null,
       "grid_auto_flow": null,
       "grid_auto_rows": null,
       "grid_column": null,
       "grid_gap": null,
       "grid_row": null,
       "grid_template_areas": null,
       "grid_template_columns": null,
       "grid_template_rows": null,
       "height": null,
       "justify_content": null,
       "justify_items": null,
       "left": null,
       "margin": null,
       "max_height": null,
       "max_width": null,
       "min_height": null,
       "min_width": null,
       "object_fit": null,
       "object_position": null,
       "order": null,
       "overflow": null,
       "padding": null,
       "right": null,
       "top": null,
       "visibility": null,
       "width": null
      }
     },
     "f2f2285a2ff04ea392d41a63aa92a5ff": {
      "model_module": "@jupyter-widgets/base",
      "model_module_version": "2.0.0",
      "model_name": "LayoutModel",
      "state": {
       "_model_module": "@jupyter-widgets/base",
       "_model_module_version": "2.0.0",
       "_model_name": "LayoutModel",
       "_view_count": null,
       "_view_module": "@jupyter-widgets/base",
       "_view_module_version": "2.0.0",
       "_view_name": "LayoutView",
       "align_content": null,
       "align_items": null,
       "align_self": null,
       "border_bottom": null,
       "border_left": null,
       "border_right": null,
       "border_top": null,
       "bottom": null,
       "display": null,
       "flex": null,
       "flex_flow": null,
       "grid_area": null,
       "grid_auto_columns": null,
       "grid_auto_flow": null,
       "grid_auto_rows": null,
       "grid_column": null,
       "grid_gap": null,
       "grid_row": null,
       "grid_template_areas": null,
       "grid_template_columns": null,
       "grid_template_rows": null,
       "height": null,
       "justify_content": null,
       "justify_items": null,
       "left": null,
       "margin": null,
       "max_height": null,
       "max_width": null,
       "min_height": null,
       "min_width": null,
       "object_fit": null,
       "object_position": null,
       "order": null,
       "overflow": null,
       "padding": null,
       "right": null,
       "top": null,
       "visibility": null,
       "width": null
      }
     },
     "f808b7ed95664cfbbc28e4f74327cb46": {
      "model_module": "@jupyter-widgets/controls",
      "model_module_version": "2.0.0",
      "model_name": "HTMLStyleModel",
      "state": {
       "_model_module": "@jupyter-widgets/controls",
       "_model_module_version": "2.0.0",
       "_model_name": "HTMLStyleModel",
       "_view_count": null,
       "_view_module": "@jupyter-widgets/base",
       "_view_module_version": "2.0.0",
       "_view_name": "StyleView",
       "background": null,
       "description_width": "",
       "font_size": null,
       "text_color": null
      }
     },
     "fca12ab369d245d78867c99bc9386042": {
      "model_module": "@jupyter-widgets/base",
      "model_module_version": "2.0.0",
      "model_name": "LayoutModel",
      "state": {
       "_model_module": "@jupyter-widgets/base",
       "_model_module_version": "2.0.0",
       "_model_name": "LayoutModel",
       "_view_count": null,
       "_view_module": "@jupyter-widgets/base",
       "_view_module_version": "2.0.0",
       "_view_name": "LayoutView",
       "align_content": null,
       "align_items": null,
       "align_self": null,
       "border_bottom": null,
       "border_left": null,
       "border_right": null,
       "border_top": null,
       "bottom": null,
       "display": null,
       "flex": null,
       "flex_flow": null,
       "grid_area": null,
       "grid_auto_columns": null,
       "grid_auto_flow": null,
       "grid_auto_rows": null,
       "grid_column": null,
       "grid_gap": null,
       "grid_row": null,
       "grid_template_areas": null,
       "grid_template_columns": null,
       "grid_template_rows": null,
       "height": null,
       "justify_content": null,
       "justify_items": null,
       "left": null,
       "margin": null,
       "max_height": null,
       "max_width": null,
       "min_height": null,
       "min_width": null,
       "object_fit": null,
       "object_position": null,
       "order": null,
       "overflow": null,
       "padding": null,
       "right": null,
       "top": null,
       "visibility": null,
       "width": null
      }
     },
     "feb0a651e58b4b81a0111b9787aa301e": {
      "model_module": "@jupyter-widgets/controls",
      "model_module_version": "2.0.0",
      "model_name": "HTMLModel",
      "state": {
       "_dom_classes": [],
       "_model_module": "@jupyter-widgets/controls",
       "_model_module_version": "2.0.0",
       "_model_name": "HTMLModel",
       "_view_count": null,
       "_view_module": "@jupyter-widgets/controls",
       "_view_module_version": "2.0.0",
       "_view_name": "HTMLView",
       "description": "",
       "description_allow_html": false,
       "layout": "IPY_MODEL_6887f25baaff44248ed2895ad294dc99",
       "placeholder": "​",
       "style": "IPY_MODEL_aadde64dccdb497089453b3e2b2adcef",
       "tabbable": null,
       "tooltip": null,
       "value": " 48.0/48.0 [00:00&lt;00:00, 5.27kB/s]"
      }
     }
    },
    "version_major": 2,
    "version_minor": 0
   }
  }
 },
 "nbformat": 4,
 "nbformat_minor": 5
}
